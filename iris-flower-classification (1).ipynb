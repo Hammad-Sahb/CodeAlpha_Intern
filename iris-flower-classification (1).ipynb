{
 "cells": [
  {
   "cell_type": "code",
   "execution_count": 1,
   "id": "78a41806",
   "metadata": {
    "_cell_guid": "b1076dfc-b9ad-4769-8c92-a6c4dae69d19",
    "_uuid": "8f2839f25d086af736a60e9eeb907d3b93b6e0e5",
    "execution": {
     "iopub.execute_input": "2025-07-20T13:30:06.907367Z",
     "iopub.status.busy": "2025-07-20T13:30:06.907030Z",
     "iopub.status.idle": "2025-07-20T13:30:08.868272Z",
     "shell.execute_reply": "2025-07-20T13:30:08.867258Z"
    },
    "papermill": {
     "duration": 1.9695,
     "end_time": "2025-07-20T13:30:08.869888",
     "exception": false,
     "start_time": "2025-07-20T13:30:06.900388",
     "status": "completed"
    },
    "tags": []
   },
   "outputs": [
    {
     "name": "stdout",
     "output_type": "stream",
     "text": [
      "/kaggle/input/iriscsv/Iris.csv\n"
     ]
    }
   ],
   "source": [
    "# This Python 3 environment comes with many helpful analytics libraries installed\n",
    "# It is defined by the kaggle/python Docker image: https://github.com/kaggle/docker-python\n",
    "# For example, here's several helpful packages to load\n",
    "\n",
    "import numpy as np # linear algebra\n",
    "import pandas as pd # data processing, CSV file I/O (e.g. pd.read_csv)\n",
    "\n",
    "# Input data files are available in the read-only \"../input/\" directory\n",
    "# For example, running this (by clicking run or pressing Shift+Enter) will list all files under the input directory\n",
    "\n",
    "import os\n",
    "for dirname, _, filenames in os.walk('/kaggle/input'):\n",
    "    for filename in filenames:\n",
    "        print(os.path.join(dirname, filename))\n",
    "\n",
    "# You can write up to 20GB to the current directory (/kaggle/working/) that gets preserved as output when you create a version using \"Save & Run All\" \n",
    "# You can also write temporary files to /kaggle/temp/, but they won't be saved outside of the current session"
   ]
  },
  {
   "cell_type": "markdown",
   "id": "7a8b3c8b",
   "metadata": {
    "papermill": {
     "duration": 0.00448,
     "end_time": "2025-07-20T13:30:08.879231",
     "exception": false,
     "start_time": "2025-07-20T13:30:08.874751",
     "status": "completed"
    },
    "tags": []
   },
   "source": [
    "### Iris Dataset Description\n",
    "\n",
    "The Iris dataset is one of the most famous datasets in machine learning. It contains **150 samples of Iris flowers**, divided into **3 species**:\n",
    "- **Iris-setosa**\n",
    "- **Iris-versicolor**\n",
    "- **Iris-virginica**\n",
    "\n",
    "Each sample has **4 features (measurements)**:\n",
    "1. **Sepal length (cm)**\n",
    "2. **Sepal width (cm)**\n",
    "3. **Petal length (cm)**\n",
    "4. **Petal width (cm)**\n",
    "\n",
    "The goal is to use these measurements to **classify the species** of each flower.\n"
   ]
  },
  {
   "cell_type": "markdown",
   "id": "06e4c459",
   "metadata": {
    "papermill": {
     "duration": 0.004184,
     "end_time": "2025-07-20T13:30:08.887910",
     "exception": false,
     "start_time": "2025-07-20T13:30:08.883726",
     "status": "completed"
    },
    "tags": []
   },
   "source": [
    "# Step_1. Import libraries"
   ]
  },
  {
   "cell_type": "code",
   "execution_count": 2,
   "id": "30e56b12",
   "metadata": {
    "execution": {
     "iopub.execute_input": "2025-07-20T13:30:08.898310Z",
     "iopub.status.busy": "2025-07-20T13:30:08.897692Z",
     "iopub.status.idle": "2025-07-20T13:30:10.511589Z",
     "shell.execute_reply": "2025-07-20T13:30:10.510404Z"
    },
    "papermill": {
     "duration": 1.62102,
     "end_time": "2025-07-20T13:30:10.513297",
     "exception": false,
     "start_time": "2025-07-20T13:30:08.892277",
     "status": "completed"
    },
    "tags": []
   },
   "outputs": [],
   "source": [
    "# Import libraries\n",
    "import pandas as pd\n",
    "import numpy as np\n",
    "import matplotlib.pyplot as plt\n",
    "%matplotlib inline\n",
    "import sklearn"
   ]
  },
  {
   "cell_type": "code",
   "execution_count": 3,
   "id": "ab219063",
   "metadata": {
    "execution": {
     "iopub.execute_input": "2025-07-20T13:30:10.524004Z",
     "iopub.status.busy": "2025-07-20T13:30:10.523523Z",
     "iopub.status.idle": "2025-07-20T13:30:10.528339Z",
     "shell.execute_reply": "2025-07-20T13:30:10.527248Z"
    },
    "papermill": {
     "duration": 0.011727,
     "end_time": "2025-07-20T13:30:10.529719",
     "exception": false,
     "start_time": "2025-07-20T13:30:10.517992",
     "status": "completed"
    },
    "tags": []
   },
   "outputs": [],
   "source": [
    "import warnings \n",
    "warnings.filterwarnings('ignore')"
   ]
  },
  {
   "cell_type": "markdown",
   "id": "ba757207",
   "metadata": {
    "papermill": {
     "duration": 0.004115,
     "end_time": "2025-07-20T13:30:10.538402",
     "exception": false,
     "start_time": "2025-07-20T13:30:10.534287",
     "status": "completed"
    },
    "tags": []
   },
   "source": [
    "# Step_2. Load the dataset"
   ]
  },
  {
   "cell_type": "code",
   "execution_count": 4,
   "id": "5fdf984d",
   "metadata": {
    "execution": {
     "iopub.execute_input": "2025-07-20T13:30:10.548348Z",
     "iopub.status.busy": "2025-07-20T13:30:10.547955Z",
     "iopub.status.idle": "2025-07-20T13:30:10.566127Z",
     "shell.execute_reply": "2025-07-20T13:30:10.565182Z"
    },
    "papermill": {
     "duration": 0.02513,
     "end_time": "2025-07-20T13:30:10.567871",
     "exception": false,
     "start_time": "2025-07-20T13:30:10.542741",
     "status": "completed"
    },
    "tags": []
   },
   "outputs": [],
   "source": [
    "df=pd.read_csv('/kaggle/input/iriscsv/Iris.csv')"
   ]
  },
  {
   "cell_type": "markdown",
   "id": "44583803",
   "metadata": {
    "papermill": {
     "duration": 0.004585,
     "end_time": "2025-07-20T13:30:10.577271",
     "exception": false,
     "start_time": "2025-07-20T13:30:10.572686",
     "status": "completed"
    },
    "tags": []
   },
   "source": [
    "# Step_3. Descriptive statistical analysis of dataset"
   ]
  },
  {
   "cell_type": "code",
   "execution_count": 5,
   "id": "b810f177",
   "metadata": {
    "execution": {
     "iopub.execute_input": "2025-07-20T13:30:10.588329Z",
     "iopub.status.busy": "2025-07-20T13:30:10.587432Z",
     "iopub.status.idle": "2025-07-20T13:30:10.614715Z",
     "shell.execute_reply": "2025-07-20T13:30:10.613773Z"
    },
    "papermill": {
     "duration": 0.03463,
     "end_time": "2025-07-20T13:30:10.616466",
     "exception": false,
     "start_time": "2025-07-20T13:30:10.581836",
     "status": "completed"
    },
    "tags": []
   },
   "outputs": [
    {
     "data": {
      "text/html": [
       "<div>\n",
       "<style scoped>\n",
       "    .dataframe tbody tr th:only-of-type {\n",
       "        vertical-align: middle;\n",
       "    }\n",
       "\n",
       "    .dataframe tbody tr th {\n",
       "        vertical-align: top;\n",
       "    }\n",
       "\n",
       "    .dataframe thead th {\n",
       "        text-align: right;\n",
       "    }\n",
       "</style>\n",
       "<table border=\"1\" class=\"dataframe\">\n",
       "  <thead>\n",
       "    <tr style=\"text-align: right;\">\n",
       "      <th></th>\n",
       "      <th>Id</th>\n",
       "      <th>SepalLengthCm</th>\n",
       "      <th>SepalWidthCm</th>\n",
       "      <th>PetalLengthCm</th>\n",
       "      <th>PetalWidthCm</th>\n",
       "      <th>Species</th>\n",
       "    </tr>\n",
       "  </thead>\n",
       "  <tbody>\n",
       "    <tr>\n",
       "      <th>0</th>\n",
       "      <td>1</td>\n",
       "      <td>5.1</td>\n",
       "      <td>3.5</td>\n",
       "      <td>1.4</td>\n",
       "      <td>0.2</td>\n",
       "      <td>Iris-setosa</td>\n",
       "    </tr>\n",
       "    <tr>\n",
       "      <th>1</th>\n",
       "      <td>2</td>\n",
       "      <td>4.9</td>\n",
       "      <td>3.0</td>\n",
       "      <td>1.4</td>\n",
       "      <td>0.2</td>\n",
       "      <td>Iris-setosa</td>\n",
       "    </tr>\n",
       "    <tr>\n",
       "      <th>2</th>\n",
       "      <td>3</td>\n",
       "      <td>4.7</td>\n",
       "      <td>3.2</td>\n",
       "      <td>1.3</td>\n",
       "      <td>0.2</td>\n",
       "      <td>Iris-setosa</td>\n",
       "    </tr>\n",
       "    <tr>\n",
       "      <th>3</th>\n",
       "      <td>4</td>\n",
       "      <td>4.6</td>\n",
       "      <td>3.1</td>\n",
       "      <td>1.5</td>\n",
       "      <td>0.2</td>\n",
       "      <td>Iris-setosa</td>\n",
       "    </tr>\n",
       "    <tr>\n",
       "      <th>4</th>\n",
       "      <td>5</td>\n",
       "      <td>5.0</td>\n",
       "      <td>3.6</td>\n",
       "      <td>1.4</td>\n",
       "      <td>0.2</td>\n",
       "      <td>Iris-setosa</td>\n",
       "    </tr>\n",
       "  </tbody>\n",
       "</table>\n",
       "</div>"
      ],
      "text/plain": [
       "   Id  SepalLengthCm  SepalWidthCm  PetalLengthCm  PetalWidthCm      Species\n",
       "0   1            5.1           3.5            1.4           0.2  Iris-setosa\n",
       "1   2            4.9           3.0            1.4           0.2  Iris-setosa\n",
       "2   3            4.7           3.2            1.3           0.2  Iris-setosa\n",
       "3   4            4.6           3.1            1.5           0.2  Iris-setosa\n",
       "4   5            5.0           3.6            1.4           0.2  Iris-setosa"
      ]
     },
     "execution_count": 5,
     "metadata": {},
     "output_type": "execute_result"
    }
   ],
   "source": [
    "df.head()"
   ]
  },
  {
   "cell_type": "code",
   "execution_count": 6,
   "id": "1fc1a49f",
   "metadata": {
    "execution": {
     "iopub.execute_input": "2025-07-20T13:30:10.627859Z",
     "iopub.status.busy": "2025-07-20T13:30:10.627538Z",
     "iopub.status.idle": "2025-07-20T13:30:10.632853Z",
     "shell.execute_reply": "2025-07-20T13:30:10.632084Z"
    },
    "papermill": {
     "duration": 0.012245,
     "end_time": "2025-07-20T13:30:10.634268",
     "exception": false,
     "start_time": "2025-07-20T13:30:10.622023",
     "status": "completed"
    },
    "tags": []
   },
   "outputs": [
    {
     "data": {
      "text/plain": [
       "(150, 6)"
      ]
     },
     "execution_count": 6,
     "metadata": {},
     "output_type": "execute_result"
    }
   ],
   "source": [
    "df.shape"
   ]
  },
  {
   "cell_type": "code",
   "execution_count": 7,
   "id": "4d4b0d2e",
   "metadata": {
    "execution": {
     "iopub.execute_input": "2025-07-20T13:30:10.645018Z",
     "iopub.status.busy": "2025-07-20T13:30:10.644621Z",
     "iopub.status.idle": "2025-07-20T13:30:10.652403Z",
     "shell.execute_reply": "2025-07-20T13:30:10.651374Z"
    },
    "papermill": {
     "duration": 0.014822,
     "end_time": "2025-07-20T13:30:10.653850",
     "exception": false,
     "start_time": "2025-07-20T13:30:10.639028",
     "status": "completed"
    },
    "tags": []
   },
   "outputs": [
    {
     "data": {
      "text/plain": [
       "Index(['Id', 'SepalLengthCm', 'SepalWidthCm', 'PetalLengthCm', 'PetalWidthCm',\n",
       "       'Species'],\n",
       "      dtype='object')"
      ]
     },
     "execution_count": 7,
     "metadata": {},
     "output_type": "execute_result"
    }
   ],
   "source": [
    "df.columns"
   ]
  },
  {
   "cell_type": "code",
   "execution_count": 8,
   "id": "0346a683",
   "metadata": {
    "execution": {
     "iopub.execute_input": "2025-07-20T13:30:10.665268Z",
     "iopub.status.busy": "2025-07-20T13:30:10.664886Z",
     "iopub.status.idle": "2025-07-20T13:30:10.686389Z",
     "shell.execute_reply": "2025-07-20T13:30:10.685272Z"
    },
    "papermill": {
     "duration": 0.028789,
     "end_time": "2025-07-20T13:30:10.687869",
     "exception": false,
     "start_time": "2025-07-20T13:30:10.659080",
     "status": "completed"
    },
    "tags": []
   },
   "outputs": [
    {
     "name": "stdout",
     "output_type": "stream",
     "text": [
      "<class 'pandas.core.frame.DataFrame'>\n",
      "RangeIndex: 150 entries, 0 to 149\n",
      "Data columns (total 6 columns):\n",
      " #   Column         Non-Null Count  Dtype  \n",
      "---  ------         --------------  -----  \n",
      " 0   Id             150 non-null    int64  \n",
      " 1   SepalLengthCm  150 non-null    float64\n",
      " 2   SepalWidthCm   150 non-null    float64\n",
      " 3   PetalLengthCm  150 non-null    float64\n",
      " 4   PetalWidthCm   150 non-null    float64\n",
      " 5   Species        150 non-null    object \n",
      "dtypes: float64(4), int64(1), object(1)\n",
      "memory usage: 7.2+ KB\n"
     ]
    }
   ],
   "source": [
    "df.info()"
   ]
  },
  {
   "cell_type": "code",
   "execution_count": 9,
   "id": "46185846",
   "metadata": {
    "execution": {
     "iopub.execute_input": "2025-07-20T13:30:10.699830Z",
     "iopub.status.busy": "2025-07-20T13:30:10.699472Z",
     "iopub.status.idle": "2025-07-20T13:30:10.707361Z",
     "shell.execute_reply": "2025-07-20T13:30:10.706390Z"
    },
    "papermill": {
     "duration": 0.015675,
     "end_time": "2025-07-20T13:30:10.709026",
     "exception": false,
     "start_time": "2025-07-20T13:30:10.693351",
     "status": "completed"
    },
    "tags": []
   },
   "outputs": [
    {
     "data": {
      "text/plain": [
       "Id               0\n",
       "SepalLengthCm    0\n",
       "SepalWidthCm     0\n",
       "PetalLengthCm    0\n",
       "PetalWidthCm     0\n",
       "Species          0\n",
       "dtype: int64"
      ]
     },
     "execution_count": 9,
     "metadata": {},
     "output_type": "execute_result"
    }
   ],
   "source": [
    "df.isnull().sum()"
   ]
  },
  {
   "cell_type": "markdown",
   "id": "bd7e182a",
   "metadata": {
    "papermill": {
     "duration": 0.004631,
     "end_time": "2025-07-20T13:30:10.718770",
     "exception": false,
     "start_time": "2025-07-20T13:30:10.714139",
     "status": "completed"
    },
    "tags": []
   },
   "source": [
    "# Step_4. Data Preprocessing"
   ]
  },
  {
   "cell_type": "code",
   "execution_count": 10,
   "id": "853ebd45",
   "metadata": {
    "execution": {
     "iopub.execute_input": "2025-07-20T13:30:10.729967Z",
     "iopub.status.busy": "2025-07-20T13:30:10.729597Z",
     "iopub.status.idle": "2025-07-20T13:30:10.738347Z",
     "shell.execute_reply": "2025-07-20T13:30:10.737326Z"
    },
    "papermill": {
     "duration": 0.016326,
     "end_time": "2025-07-20T13:30:10.739990",
     "exception": false,
     "start_time": "2025-07-20T13:30:10.723664",
     "status": "completed"
    },
    "tags": []
   },
   "outputs": [],
   "source": [
    "# Drop irrelevant features \n",
    "df.drop(columns=['Id'], inplace=True)"
   ]
  },
  {
   "cell_type": "code",
   "execution_count": 11,
   "id": "0fa7f588",
   "metadata": {
    "execution": {
     "iopub.execute_input": "2025-07-20T13:30:10.751729Z",
     "iopub.status.busy": "2025-07-20T13:30:10.751405Z",
     "iopub.status.idle": "2025-07-20T13:30:10.758021Z",
     "shell.execute_reply": "2025-07-20T13:30:10.756844Z"
    },
    "papermill": {
     "duration": 0.014315,
     "end_time": "2025-07-20T13:30:10.759710",
     "exception": false,
     "start_time": "2025-07-20T13:30:10.745395",
     "status": "completed"
    },
    "tags": []
   },
   "outputs": [
    {
     "data": {
      "text/plain": [
       "Index(['SepalLengthCm', 'SepalWidthCm', 'PetalLengthCm', 'PetalWidthCm',\n",
       "       'Species'],\n",
       "      dtype='object')"
      ]
     },
     "execution_count": 11,
     "metadata": {},
     "output_type": "execute_result"
    }
   ],
   "source": [
    "df.columns"
   ]
  },
  {
   "cell_type": "markdown",
   "id": "6f6d5490",
   "metadata": {
    "papermill": {
     "duration": 0.004757,
     "end_time": "2025-07-20T13:30:10.769982",
     "exception": false,
     "start_time": "2025-07-20T13:30:10.765225",
     "status": "completed"
    },
    "tags": []
   },
   "source": [
    "# Step_5. Feature Selection"
   ]
  },
  {
   "cell_type": "code",
   "execution_count": 12,
   "id": "47a34427",
   "metadata": {
    "execution": {
     "iopub.execute_input": "2025-07-20T13:30:10.781496Z",
     "iopub.status.busy": "2025-07-20T13:30:10.781201Z",
     "iopub.status.idle": "2025-07-20T13:30:10.786885Z",
     "shell.execute_reply": "2025-07-20T13:30:10.786060Z"
    },
    "papermill": {
     "duration": 0.013403,
     "end_time": "2025-07-20T13:30:10.788520",
     "exception": false,
     "start_time": "2025-07-20T13:30:10.775117",
     "status": "completed"
    },
    "tags": []
   },
   "outputs": [],
   "source": [
    "# Features\n",
    "X = df[['SepalLengthCm', 'SepalWidthCm', 'PetalLengthCm', 'PetalWidthCm']]\n",
    "# Target Veriable\n",
    "y = df['Species']"
   ]
  },
  {
   "cell_type": "code",
   "execution_count": 13,
   "id": "dbb18b1b",
   "metadata": {
    "execution": {
     "iopub.execute_input": "2025-07-20T13:30:10.800614Z",
     "iopub.status.busy": "2025-07-20T13:30:10.800279Z",
     "iopub.status.idle": "2025-07-20T13:30:10.811707Z",
     "shell.execute_reply": "2025-07-20T13:30:10.810870Z"
    },
    "papermill": {
     "duration": 0.019364,
     "end_time": "2025-07-20T13:30:10.813090",
     "exception": false,
     "start_time": "2025-07-20T13:30:10.793726",
     "status": "completed"
    },
    "tags": []
   },
   "outputs": [
    {
     "data": {
      "text/html": [
       "<div>\n",
       "<style scoped>\n",
       "    .dataframe tbody tr th:only-of-type {\n",
       "        vertical-align: middle;\n",
       "    }\n",
       "\n",
       "    .dataframe tbody tr th {\n",
       "        vertical-align: top;\n",
       "    }\n",
       "\n",
       "    .dataframe thead th {\n",
       "        text-align: right;\n",
       "    }\n",
       "</style>\n",
       "<table border=\"1\" class=\"dataframe\">\n",
       "  <thead>\n",
       "    <tr style=\"text-align: right;\">\n",
       "      <th></th>\n",
       "      <th>SepalLengthCm</th>\n",
       "      <th>SepalWidthCm</th>\n",
       "      <th>PetalLengthCm</th>\n",
       "      <th>PetalWidthCm</th>\n",
       "    </tr>\n",
       "  </thead>\n",
       "  <tbody>\n",
       "    <tr>\n",
       "      <th>0</th>\n",
       "      <td>5.1</td>\n",
       "      <td>3.5</td>\n",
       "      <td>1.4</td>\n",
       "      <td>0.2</td>\n",
       "    </tr>\n",
       "    <tr>\n",
       "      <th>1</th>\n",
       "      <td>4.9</td>\n",
       "      <td>3.0</td>\n",
       "      <td>1.4</td>\n",
       "      <td>0.2</td>\n",
       "    </tr>\n",
       "    <tr>\n",
       "      <th>2</th>\n",
       "      <td>4.7</td>\n",
       "      <td>3.2</td>\n",
       "      <td>1.3</td>\n",
       "      <td>0.2</td>\n",
       "    </tr>\n",
       "    <tr>\n",
       "      <th>3</th>\n",
       "      <td>4.6</td>\n",
       "      <td>3.1</td>\n",
       "      <td>1.5</td>\n",
       "      <td>0.2</td>\n",
       "    </tr>\n",
       "    <tr>\n",
       "      <th>4</th>\n",
       "      <td>5.0</td>\n",
       "      <td>3.6</td>\n",
       "      <td>1.4</td>\n",
       "      <td>0.2</td>\n",
       "    </tr>\n",
       "  </tbody>\n",
       "</table>\n",
       "</div>"
      ],
      "text/plain": [
       "   SepalLengthCm  SepalWidthCm  PetalLengthCm  PetalWidthCm\n",
       "0            5.1           3.5            1.4           0.2\n",
       "1            4.9           3.0            1.4           0.2\n",
       "2            4.7           3.2            1.3           0.2\n",
       "3            4.6           3.1            1.5           0.2\n",
       "4            5.0           3.6            1.4           0.2"
      ]
     },
     "execution_count": 13,
     "metadata": {},
     "output_type": "execute_result"
    }
   ],
   "source": [
    "X.head()"
   ]
  },
  {
   "cell_type": "code",
   "execution_count": 14,
   "id": "aaf39c8c",
   "metadata": {
    "execution": {
     "iopub.execute_input": "2025-07-20T13:30:10.825283Z",
     "iopub.status.busy": "2025-07-20T13:30:10.824945Z",
     "iopub.status.idle": "2025-07-20T13:30:10.831756Z",
     "shell.execute_reply": "2025-07-20T13:30:10.830930Z"
    },
    "papermill": {
     "duration": 0.014478,
     "end_time": "2025-07-20T13:30:10.833249",
     "exception": false,
     "start_time": "2025-07-20T13:30:10.818771",
     "status": "completed"
    },
    "tags": []
   },
   "outputs": [
    {
     "data": {
      "text/plain": [
       "0    Iris-setosa\n",
       "1    Iris-setosa\n",
       "2    Iris-setosa\n",
       "3    Iris-setosa\n",
       "4    Iris-setosa\n",
       "Name: Species, dtype: object"
      ]
     },
     "execution_count": 14,
     "metadata": {},
     "output_type": "execute_result"
    }
   ],
   "source": [
    "y.head()"
   ]
  },
  {
   "cell_type": "markdown",
   "id": "618581fa",
   "metadata": {
    "papermill": {
     "duration": 0.005134,
     "end_time": "2025-07-20T13:30:10.844018",
     "exception": false,
     "start_time": "2025-07-20T13:30:10.838884",
     "status": "completed"
    },
    "tags": []
   },
   "source": [
    "# Step_6. Training a Model"
   ]
  },
  {
   "cell_type": "code",
   "execution_count": 15,
   "id": "3a2e15e2",
   "metadata": {
    "execution": {
     "iopub.execute_input": "2025-07-20T13:30:10.855504Z",
     "iopub.status.busy": "2025-07-20T13:30:10.855192Z",
     "iopub.status.idle": "2025-07-20T13:30:10.992518Z",
     "shell.execute_reply": "2025-07-20T13:30:10.991791Z"
    },
    "papermill": {
     "duration": 0.144943,
     "end_time": "2025-07-20T13:30:10.994093",
     "exception": false,
     "start_time": "2025-07-20T13:30:10.849150",
     "status": "completed"
    },
    "tags": []
   },
   "outputs": [],
   "source": [
    "# Train test spilt\n",
    "from sklearn.model_selection import train_test_split\n",
    "X_train, X_test, y_train, y_test = train_test_split(X,y, test_size = 0.20, random_state = 42)\n",
    "from sklearn.metrics import accuracy_score, classification_report, confusion_matrix"
   ]
  },
  {
   "cell_type": "code",
   "execution_count": 16,
   "id": "6974b934",
   "metadata": {
    "execution": {
     "iopub.execute_input": "2025-07-20T13:30:11.006058Z",
     "iopub.status.busy": "2025-07-20T13:30:11.005628Z",
     "iopub.status.idle": "2025-07-20T13:30:11.220977Z",
     "shell.execute_reply": "2025-07-20T13:30:11.219772Z"
    },
    "papermill": {
     "duration": 0.223772,
     "end_time": "2025-07-20T13:30:11.223195",
     "exception": false,
     "start_time": "2025-07-20T13:30:10.999423",
     "status": "completed"
    },
    "tags": []
   },
   "outputs": [],
   "source": [
    "# Training the KNN Model\n",
    "from sklearn import neighbors\n",
    "model = neighbors.KNeighborsClassifier(n_neighbors = 3)"
   ]
  },
  {
   "cell_type": "code",
   "execution_count": 17,
   "id": "557ef680",
   "metadata": {
    "execution": {
     "iopub.execute_input": "2025-07-20T13:30:11.235565Z",
     "iopub.status.busy": "2025-07-20T13:30:11.235260Z",
     "iopub.status.idle": "2025-07-20T13:30:11.249948Z",
     "shell.execute_reply": "2025-07-20T13:30:11.249072Z"
    },
    "papermill": {
     "duration": 0.022464,
     "end_time": "2025-07-20T13:30:11.251494",
     "exception": false,
     "start_time": "2025-07-20T13:30:11.229030",
     "status": "completed"
    },
    "tags": []
   },
   "outputs": [
    {
     "data": {
      "text/html": [
       "<style>#sk-container-id-1 {color: black;background-color: white;}#sk-container-id-1 pre{padding: 0;}#sk-container-id-1 div.sk-toggleable {background-color: white;}#sk-container-id-1 label.sk-toggleable__label {cursor: pointer;display: block;width: 100%;margin-bottom: 0;padding: 0.3em;box-sizing: border-box;text-align: center;}#sk-container-id-1 label.sk-toggleable__label-arrow:before {content: \"▸\";float: left;margin-right: 0.25em;color: #696969;}#sk-container-id-1 label.sk-toggleable__label-arrow:hover:before {color: black;}#sk-container-id-1 div.sk-estimator:hover label.sk-toggleable__label-arrow:before {color: black;}#sk-container-id-1 div.sk-toggleable__content {max-height: 0;max-width: 0;overflow: hidden;text-align: left;background-color: #f0f8ff;}#sk-container-id-1 div.sk-toggleable__content pre {margin: 0.2em;color: black;border-radius: 0.25em;background-color: #f0f8ff;}#sk-container-id-1 input.sk-toggleable__control:checked~div.sk-toggleable__content {max-height: 200px;max-width: 100%;overflow: auto;}#sk-container-id-1 input.sk-toggleable__control:checked~label.sk-toggleable__label-arrow:before {content: \"▾\";}#sk-container-id-1 div.sk-estimator input.sk-toggleable__control:checked~label.sk-toggleable__label {background-color: #d4ebff;}#sk-container-id-1 div.sk-label input.sk-toggleable__control:checked~label.sk-toggleable__label {background-color: #d4ebff;}#sk-container-id-1 input.sk-hidden--visually {border: 0;clip: rect(1px 1px 1px 1px);clip: rect(1px, 1px, 1px, 1px);height: 1px;margin: -1px;overflow: hidden;padding: 0;position: absolute;width: 1px;}#sk-container-id-1 div.sk-estimator {font-family: monospace;background-color: #f0f8ff;border: 1px dotted black;border-radius: 0.25em;box-sizing: border-box;margin-bottom: 0.5em;}#sk-container-id-1 div.sk-estimator:hover {background-color: #d4ebff;}#sk-container-id-1 div.sk-parallel-item::after {content: \"\";width: 100%;border-bottom: 1px solid gray;flex-grow: 1;}#sk-container-id-1 div.sk-label:hover label.sk-toggleable__label {background-color: #d4ebff;}#sk-container-id-1 div.sk-serial::before {content: \"\";position: absolute;border-left: 1px solid gray;box-sizing: border-box;top: 0;bottom: 0;left: 50%;z-index: 0;}#sk-container-id-1 div.sk-serial {display: flex;flex-direction: column;align-items: center;background-color: white;padding-right: 0.2em;padding-left: 0.2em;position: relative;}#sk-container-id-1 div.sk-item {position: relative;z-index: 1;}#sk-container-id-1 div.sk-parallel {display: flex;align-items: stretch;justify-content: center;background-color: white;position: relative;}#sk-container-id-1 div.sk-item::before, #sk-container-id-1 div.sk-parallel-item::before {content: \"\";position: absolute;border-left: 1px solid gray;box-sizing: border-box;top: 0;bottom: 0;left: 50%;z-index: -1;}#sk-container-id-1 div.sk-parallel-item {display: flex;flex-direction: column;z-index: 1;position: relative;background-color: white;}#sk-container-id-1 div.sk-parallel-item:first-child::after {align-self: flex-end;width: 50%;}#sk-container-id-1 div.sk-parallel-item:last-child::after {align-self: flex-start;width: 50%;}#sk-container-id-1 div.sk-parallel-item:only-child::after {width: 0;}#sk-container-id-1 div.sk-dashed-wrapped {border: 1px dashed gray;margin: 0 0.4em 0.5em 0.4em;box-sizing: border-box;padding-bottom: 0.4em;background-color: white;}#sk-container-id-1 div.sk-label label {font-family: monospace;font-weight: bold;display: inline-block;line-height: 1.2em;}#sk-container-id-1 div.sk-label-container {text-align: center;}#sk-container-id-1 div.sk-container {/* jupyter's `normalize.less` sets `[hidden] { display: none; }` but bootstrap.min.css set `[hidden] { display: none !important; }` so we also need the `!important` here to be able to override the default hidden behavior on the sphinx rendered scikit-learn.org. See: https://github.com/scikit-learn/scikit-learn/issues/21755 */display: inline-block !important;position: relative;}#sk-container-id-1 div.sk-text-repr-fallback {display: none;}</style><div id=\"sk-container-id-1\" class=\"sk-top-container\"><div class=\"sk-text-repr-fallback\"><pre>KNeighborsClassifier(n_neighbors=3)</pre><b>In a Jupyter environment, please rerun this cell to show the HTML representation or trust the notebook. <br />On GitHub, the HTML representation is unable to render, please try loading this page with nbviewer.org.</b></div><div class=\"sk-container\" hidden><div class=\"sk-item\"><div class=\"sk-estimator sk-toggleable\"><input class=\"sk-toggleable__control sk-hidden--visually\" id=\"sk-estimator-id-1\" type=\"checkbox\" checked><label for=\"sk-estimator-id-1\" class=\"sk-toggleable__label sk-toggleable__label-arrow\">KNeighborsClassifier</label><div class=\"sk-toggleable__content\"><pre>KNeighborsClassifier(n_neighbors=3)</pre></div></div></div></div></div>"
      ],
      "text/plain": [
       "KNeighborsClassifier(n_neighbors=3)"
      ]
     },
     "execution_count": 17,
     "metadata": {},
     "output_type": "execute_result"
    }
   ],
   "source": [
    "# Train the Model\n",
    "model.fit(X_train, y_train)"
   ]
  },
  {
   "cell_type": "code",
   "execution_count": 18,
   "id": "8a40ed7f",
   "metadata": {
    "execution": {
     "iopub.execute_input": "2025-07-20T13:30:11.264291Z",
     "iopub.status.busy": "2025-07-20T13:30:11.263452Z",
     "iopub.status.idle": "2025-07-20T13:30:11.274091Z",
     "shell.execute_reply": "2025-07-20T13:30:11.273131Z"
    },
    "papermill": {
     "duration": 0.018556,
     "end_time": "2025-07-20T13:30:11.275700",
     "exception": false,
     "start_time": "2025-07-20T13:30:11.257144",
     "status": "completed"
    },
    "tags": []
   },
   "outputs": [],
   "source": [
    "# Prediction\n",
    "y_pred = model.predict(X_test)"
   ]
  },
  {
   "cell_type": "markdown",
   "id": "8ace5d18",
   "metadata": {
    "papermill": {
     "duration": 0.005186,
     "end_time": "2025-07-20T13:30:11.286475",
     "exception": false,
     "start_time": "2025-07-20T13:30:11.281289",
     "status": "completed"
    },
    "tags": []
   },
   "source": [
    "# Step_7. Evaluation"
   ]
  },
  {
   "cell_type": "code",
   "execution_count": 19,
   "id": "3eeb1ba7",
   "metadata": {
    "execution": {
     "iopub.execute_input": "2025-07-20T13:30:11.298006Z",
     "iopub.status.busy": "2025-07-20T13:30:11.297685Z",
     "iopub.status.idle": "2025-07-20T13:30:11.315038Z",
     "shell.execute_reply": "2025-07-20T13:30:11.313992Z"
    },
    "papermill": {
     "duration": 0.02518,
     "end_time": "2025-07-20T13:30:11.316863",
     "exception": false,
     "start_time": "2025-07-20T13:30:11.291683",
     "status": "completed"
    },
    "tags": []
   },
   "outputs": [
    {
     "name": "stdout",
     "output_type": "stream",
     "text": [
      "1.0\n",
      "                 precision    recall  f1-score   support\n",
      "\n",
      "    Iris-setosa       1.00      1.00      1.00        10\n",
      "Iris-versicolor       1.00      1.00      1.00         9\n",
      " Iris-virginica       1.00      1.00      1.00        11\n",
      "\n",
      "       accuracy                           1.00        30\n",
      "      macro avg       1.00      1.00      1.00        30\n",
      "   weighted avg       1.00      1.00      1.00        30\n",
      "\n",
      "[[10  0  0]\n",
      " [ 0  9  0]\n",
      " [ 0  0 11]]\n"
     ]
    }
   ],
   "source": [
    "# Evaluation\n",
    "print(accuracy_score(y_test, y_pred))\n",
    "print(classification_report(y_test, y_pred))\n",
    "print(confusion_matrix(y_test, y_pred))"
   ]
  },
  {
   "cell_type": "markdown",
   "id": "38392201",
   "metadata": {
    "papermill": {
     "duration": 0.005213,
     "end_time": "2025-07-20T13:30:11.327731",
     "exception": false,
     "start_time": "2025-07-20T13:30:11.322518",
     "status": "completed"
    },
    "tags": []
   },
   "source": [
    "# KNN Model Evaluation Report\n",
    "\n",
    "The KNN model predicted the species of Iris flowers with **100% accuracy** on the test data.\n",
    "\n",
    "- **Precision, Recall, and F1-score** are all **1.00** for every flower type (Setosa, Versicolor, Virginica), meaning the model made no mistakes.\n",
    "- **Accuracy = 100%**, which means all 30 flowers in the test set were correctly classified.\n",
    "- The **confusion matrix** shows that:\n",
    "  - All 10 Setosa, 9 Versicolor, and 11 Virginica flowers were predicted correctly.\n",
    "- This result indicates that the model is performing perfectly for this dataset.\n"
   ]
  }
 ],
 "metadata": {
  "kaggle": {
   "accelerator": "none",
   "dataSources": [
    {
     "datasetId": 4247,
     "sourceId": 6570,
     "sourceType": "datasetVersion"
    }
   ],
   "dockerImageVersionId": 31089,
   "isGpuEnabled": false,
   "isInternetEnabled": false,
   "language": "python",
   "sourceType": "notebook"
  },
  "kernelspec": {
   "display_name": "Python 3",
   "language": "python",
   "name": "python3"
  },
  "language_info": {
   "codemirror_mode": {
    "name": "ipython",
    "version": 3
   },
   "file_extension": ".py",
   "mimetype": "text/x-python",
   "name": "python",
   "nbconvert_exporter": "python",
   "pygments_lexer": "ipython3",
   "version": "3.11.13"
  },
  "papermill": {
   "default_parameters": {},
   "duration": 9.94731,
   "end_time": "2025-07-20T13:30:12.053808",
   "environment_variables": {},
   "exception": null,
   "input_path": "__notebook__.ipynb",
   "output_path": "__notebook__.ipynb",
   "parameters": {},
   "start_time": "2025-07-20T13:30:02.106498",
   "version": "2.6.0"
  }
 },
 "nbformat": 4,
 "nbformat_minor": 5
}
