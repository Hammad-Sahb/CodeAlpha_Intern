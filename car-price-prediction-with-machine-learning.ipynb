{
 "cells": [
  {
   "cell_type": "code",
   "execution_count": 1,
   "id": "bafa16c3",
   "metadata": {
    "_cell_guid": "b1076dfc-b9ad-4769-8c92-a6c4dae69d19",
    "_uuid": "8f2839f25d086af736a60e9eeb907d3b93b6e0e5",
    "execution": {
     "iopub.execute_input": "2025-08-19T11:30:20.653821Z",
     "iopub.status.busy": "2025-08-19T11:30:20.653482Z",
     "iopub.status.idle": "2025-08-19T11:30:22.650764Z",
     "shell.execute_reply": "2025-08-19T11:30:22.649758Z"
    },
    "papermill": {
     "duration": 2.011544,
     "end_time": "2025-08-19T11:30:22.652676",
     "exception": false,
     "start_time": "2025-08-19T11:30:20.641132",
     "status": "completed"
    },
    "tags": []
   },
   "outputs": [
    {
     "name": "stdout",
     "output_type": "stream",
     "text": [
      "/kaggle/input/car-price-predictionused-cars/car data.csv\n"
     ]
    }
   ],
   "source": [
    "# This Python 3 environment comes with many helpful analytics libraries installed\n",
    "# It is defined by the kaggle/python Docker image: https://github.com/kaggle/docker-python\n",
    "# For example, here's several helpful packages to load\n",
    "\n",
    "import numpy as np # linear algebra\n",
    "import pandas as pd # data processing, CSV file I/O (e.g. pd.read_csv)\n",
    "\n",
    "# Input data files are available in the read-only \"../input/\" directory\n",
    "# For example, running this (by clicking run or pressing Shift+Enter) will list all files under the input directory\n",
    "\n",
    "import os\n",
    "for dirname, _, filenames in os.walk('/kaggle/input'):\n",
    "    for filename in filenames:\n",
    "        print(os.path.join(dirname, filename))\n",
    "\n",
    "# You can write up to 20GB to the current directory (/kaggle/working/) that gets preserved as output when you create a version using \"Save & Run All\" \n",
    "# You can also write temporary files to /kaggle/temp/, but they won't be saved outside of the current session"
   ]
  },
  {
   "cell_type": "markdown",
   "id": "e4c412f2",
   "metadata": {
    "papermill": {
     "duration": 0.009018,
     "end_time": "2025-08-19T11:30:22.671697",
     "exception": false,
     "start_time": "2025-08-19T11:30:22.662679",
     "status": "completed"
    },
    "tags": []
   },
   "source": [
    "# ✅ TASK 3: Car Price Prediction with Machine Learning\n",
    "● Collect car-related features like brand goodwill, horsepower, mileage, etc.  \n",
    "● Train a regression model to predict car prices based on these features.  \n",
    "● Handle data preprocessing, feature engineering, and model evaluation.  \n",
    "● Use Python libraries like Pandas, Scikit-learn and Matplotlib for the workflow.  \n",
    "● Understand real-world applications of machine learning in price prediction.  "
   ]
  },
  {
   "cell_type": "markdown",
   "id": "abd96aed",
   "metadata": {
    "papermill": {
     "duration": 0.010064,
     "end_time": "2025-08-19T11:30:22.691359",
     "exception": false,
     "start_time": "2025-08-19T11:30:22.681295",
     "status": "completed"
    },
    "tags": []
   },
   "source": [
    "# 1. Import Libraries"
   ]
  },
  {
   "cell_type": "code",
   "execution_count": 2,
   "id": "e455311f",
   "metadata": {
    "execution": {
     "iopub.execute_input": "2025-08-19T11:30:22.711513Z",
     "iopub.status.busy": "2025-08-19T11:30:22.710944Z",
     "iopub.status.idle": "2025-08-19T11:30:24.819061Z",
     "shell.execute_reply": "2025-08-19T11:30:24.817591Z"
    },
    "papermill": {
     "duration": 2.120523,
     "end_time": "2025-08-19T11:30:24.821152",
     "exception": false,
     "start_time": "2025-08-19T11:30:22.700629",
     "status": "completed"
    },
    "tags": []
   },
   "outputs": [],
   "source": [
    "# Import Libraries\n",
    "import numpy as np\n",
    "import pandas as pd\n",
    "import matplotlib.pyplot as plt\n",
    "import seaborn as sns"
   ]
  },
  {
   "cell_type": "markdown",
   "id": "5a73ac44",
   "metadata": {
    "papermill": {
     "duration": 0.009276,
     "end_time": "2025-08-19T11:30:24.840892",
     "exception": false,
     "start_time": "2025-08-19T11:30:24.831616",
     "status": "completed"
    },
    "tags": []
   },
   "source": [
    "# 2. Import Dataset"
   ]
  },
  {
   "cell_type": "code",
   "execution_count": 3,
   "id": "0980452d",
   "metadata": {
    "execution": {
     "iopub.execute_input": "2025-08-19T11:30:24.861466Z",
     "iopub.status.busy": "2025-08-19T11:30:24.860818Z",
     "iopub.status.idle": "2025-08-19T11:30:24.869227Z",
     "shell.execute_reply": "2025-08-19T11:30:24.868226Z"
    },
    "papermill": {
     "duration": 0.020602,
     "end_time": "2025-08-19T11:30:24.871131",
     "exception": false,
     "start_time": "2025-08-19T11:30:24.850529",
     "status": "completed"
    },
    "tags": []
   },
   "outputs": [
    {
     "data": {
      "text/plain": [
       "['car data.csv']"
      ]
     },
     "execution_count": 3,
     "metadata": {},
     "output_type": "execute_result"
    }
   ],
   "source": [
    "import os\n",
    "os.listdir(\"/kaggle/input/car-price-predictionused-cars\")\n"
   ]
  },
  {
   "cell_type": "code",
   "execution_count": 4,
   "id": "55792066",
   "metadata": {
    "execution": {
     "iopub.execute_input": "2025-08-19T11:30:24.892600Z",
     "iopub.status.busy": "2025-08-19T11:30:24.891335Z",
     "iopub.status.idle": "2025-08-19T11:30:24.916102Z",
     "shell.execute_reply": "2025-08-19T11:30:24.915160Z"
    },
    "papermill": {
     "duration": 0.037157,
     "end_time": "2025-08-19T11:30:24.917840",
     "exception": false,
     "start_time": "2025-08-19T11:30:24.880683",
     "status": "completed"
    },
    "tags": []
   },
   "outputs": [],
   "source": [
    "# Loading the Dataset\n",
    "df = pd.read_csv(\"/kaggle/input/car-price-predictionused-cars/car data.csv\")"
   ]
  },
  {
   "cell_type": "markdown",
   "id": "111012a5",
   "metadata": {
    "papermill": {
     "duration": 0.009211,
     "end_time": "2025-08-19T11:30:24.936645",
     "exception": false,
     "start_time": "2025-08-19T11:30:24.927434",
     "status": "completed"
    },
    "tags": []
   },
   "source": [
    "# 3. EDA(Exploratory Data Analysis"
   ]
  },
  {
   "cell_type": "markdown",
   "id": "171bce07",
   "metadata": {
    "papermill": {
     "duration": 0.00899,
     "end_time": "2025-08-19T11:30:24.954798",
     "exception": false,
     "start_time": "2025-08-19T11:30:24.945808",
     "status": "completed"
    },
    "tags": []
   },
   "source": [
    "# Data Overview"
   ]
  },
  {
   "cell_type": "code",
   "execution_count": 5,
   "id": "b97e0274",
   "metadata": {
    "execution": {
     "iopub.execute_input": "2025-08-19T11:30:24.974551Z",
     "iopub.status.busy": "2025-08-19T11:30:24.974257Z",
     "iopub.status.idle": "2025-08-19T11:30:25.001834Z",
     "shell.execute_reply": "2025-08-19T11:30:25.000896Z"
    },
    "papermill": {
     "duration": 0.039604,
     "end_time": "2025-08-19T11:30:25.003650",
     "exception": false,
     "start_time": "2025-08-19T11:30:24.964046",
     "status": "completed"
    },
    "tags": []
   },
   "outputs": [
    {
     "data": {
      "text/html": [
       "<div>\n",
       "<style scoped>\n",
       "    .dataframe tbody tr th:only-of-type {\n",
       "        vertical-align: middle;\n",
       "    }\n",
       "\n",
       "    .dataframe tbody tr th {\n",
       "        vertical-align: top;\n",
       "    }\n",
       "\n",
       "    .dataframe thead th {\n",
       "        text-align: right;\n",
       "    }\n",
       "</style>\n",
       "<table border=\"1\" class=\"dataframe\">\n",
       "  <thead>\n",
       "    <tr style=\"text-align: right;\">\n",
       "      <th></th>\n",
       "      <th>Car_Name</th>\n",
       "      <th>Year</th>\n",
       "      <th>Selling_Price</th>\n",
       "      <th>Present_Price</th>\n",
       "      <th>Driven_kms</th>\n",
       "      <th>Fuel_Type</th>\n",
       "      <th>Selling_type</th>\n",
       "      <th>Transmission</th>\n",
       "      <th>Owner</th>\n",
       "    </tr>\n",
       "  </thead>\n",
       "  <tbody>\n",
       "    <tr>\n",
       "      <th>0</th>\n",
       "      <td>ritz</td>\n",
       "      <td>2014</td>\n",
       "      <td>3.35</td>\n",
       "      <td>5.59</td>\n",
       "      <td>27000</td>\n",
       "      <td>Petrol</td>\n",
       "      <td>Dealer</td>\n",
       "      <td>Manual</td>\n",
       "      <td>0</td>\n",
       "    </tr>\n",
       "    <tr>\n",
       "      <th>1</th>\n",
       "      <td>sx4</td>\n",
       "      <td>2013</td>\n",
       "      <td>4.75</td>\n",
       "      <td>9.54</td>\n",
       "      <td>43000</td>\n",
       "      <td>Diesel</td>\n",
       "      <td>Dealer</td>\n",
       "      <td>Manual</td>\n",
       "      <td>0</td>\n",
       "    </tr>\n",
       "    <tr>\n",
       "      <th>2</th>\n",
       "      <td>ciaz</td>\n",
       "      <td>2017</td>\n",
       "      <td>7.25</td>\n",
       "      <td>9.85</td>\n",
       "      <td>6900</td>\n",
       "      <td>Petrol</td>\n",
       "      <td>Dealer</td>\n",
       "      <td>Manual</td>\n",
       "      <td>0</td>\n",
       "    </tr>\n",
       "    <tr>\n",
       "      <th>3</th>\n",
       "      <td>wagon r</td>\n",
       "      <td>2011</td>\n",
       "      <td>2.85</td>\n",
       "      <td>4.15</td>\n",
       "      <td>5200</td>\n",
       "      <td>Petrol</td>\n",
       "      <td>Dealer</td>\n",
       "      <td>Manual</td>\n",
       "      <td>0</td>\n",
       "    </tr>\n",
       "    <tr>\n",
       "      <th>4</th>\n",
       "      <td>swift</td>\n",
       "      <td>2014</td>\n",
       "      <td>4.60</td>\n",
       "      <td>6.87</td>\n",
       "      <td>42450</td>\n",
       "      <td>Diesel</td>\n",
       "      <td>Dealer</td>\n",
       "      <td>Manual</td>\n",
       "      <td>0</td>\n",
       "    </tr>\n",
       "  </tbody>\n",
       "</table>\n",
       "</div>"
      ],
      "text/plain": [
       "  Car_Name  Year  Selling_Price  Present_Price  Driven_kms Fuel_Type  \\\n",
       "0     ritz  2014           3.35           5.59       27000    Petrol   \n",
       "1      sx4  2013           4.75           9.54       43000    Diesel   \n",
       "2     ciaz  2017           7.25           9.85        6900    Petrol   \n",
       "3  wagon r  2011           2.85           4.15        5200    Petrol   \n",
       "4    swift  2014           4.60           6.87       42450    Diesel   \n",
       "\n",
       "  Selling_type Transmission  Owner  \n",
       "0       Dealer       Manual      0  \n",
       "1       Dealer       Manual      0  \n",
       "2       Dealer       Manual      0  \n",
       "3       Dealer       Manual      0  \n",
       "4       Dealer       Manual      0  "
      ]
     },
     "execution_count": 5,
     "metadata": {},
     "output_type": "execute_result"
    }
   ],
   "source": [
    "# Displays first n rows (default 5)\n",
    "df.head()"
   ]
  },
  {
   "cell_type": "code",
   "execution_count": 6,
   "id": "9f3d1206",
   "metadata": {
    "execution": {
     "iopub.execute_input": "2025-08-19T11:30:25.024574Z",
     "iopub.status.busy": "2025-08-19T11:30:25.023758Z",
     "iopub.status.idle": "2025-08-19T11:30:25.037218Z",
     "shell.execute_reply": "2025-08-19T11:30:25.036184Z"
    },
    "papermill": {
     "duration": 0.025497,
     "end_time": "2025-08-19T11:30:25.038870",
     "exception": false,
     "start_time": "2025-08-19T11:30:25.013373",
     "status": "completed"
    },
    "tags": []
   },
   "outputs": [
    {
     "data": {
      "text/html": [
       "<div>\n",
       "<style scoped>\n",
       "    .dataframe tbody tr th:only-of-type {\n",
       "        vertical-align: middle;\n",
       "    }\n",
       "\n",
       "    .dataframe tbody tr th {\n",
       "        vertical-align: top;\n",
       "    }\n",
       "\n",
       "    .dataframe thead th {\n",
       "        text-align: right;\n",
       "    }\n",
       "</style>\n",
       "<table border=\"1\" class=\"dataframe\">\n",
       "  <thead>\n",
       "    <tr style=\"text-align: right;\">\n",
       "      <th></th>\n",
       "      <th>Car_Name</th>\n",
       "      <th>Year</th>\n",
       "      <th>Selling_Price</th>\n",
       "      <th>Present_Price</th>\n",
       "      <th>Driven_kms</th>\n",
       "      <th>Fuel_Type</th>\n",
       "      <th>Selling_type</th>\n",
       "      <th>Transmission</th>\n",
       "      <th>Owner</th>\n",
       "    </tr>\n",
       "  </thead>\n",
       "  <tbody>\n",
       "    <tr>\n",
       "      <th>296</th>\n",
       "      <td>city</td>\n",
       "      <td>2016</td>\n",
       "      <td>9.50</td>\n",
       "      <td>11.6</td>\n",
       "      <td>33988</td>\n",
       "      <td>Diesel</td>\n",
       "      <td>Dealer</td>\n",
       "      <td>Manual</td>\n",
       "      <td>0</td>\n",
       "    </tr>\n",
       "    <tr>\n",
       "      <th>297</th>\n",
       "      <td>brio</td>\n",
       "      <td>2015</td>\n",
       "      <td>4.00</td>\n",
       "      <td>5.9</td>\n",
       "      <td>60000</td>\n",
       "      <td>Petrol</td>\n",
       "      <td>Dealer</td>\n",
       "      <td>Manual</td>\n",
       "      <td>0</td>\n",
       "    </tr>\n",
       "    <tr>\n",
       "      <th>298</th>\n",
       "      <td>city</td>\n",
       "      <td>2009</td>\n",
       "      <td>3.35</td>\n",
       "      <td>11.0</td>\n",
       "      <td>87934</td>\n",
       "      <td>Petrol</td>\n",
       "      <td>Dealer</td>\n",
       "      <td>Manual</td>\n",
       "      <td>0</td>\n",
       "    </tr>\n",
       "    <tr>\n",
       "      <th>299</th>\n",
       "      <td>city</td>\n",
       "      <td>2017</td>\n",
       "      <td>11.50</td>\n",
       "      <td>12.5</td>\n",
       "      <td>9000</td>\n",
       "      <td>Diesel</td>\n",
       "      <td>Dealer</td>\n",
       "      <td>Manual</td>\n",
       "      <td>0</td>\n",
       "    </tr>\n",
       "    <tr>\n",
       "      <th>300</th>\n",
       "      <td>brio</td>\n",
       "      <td>2016</td>\n",
       "      <td>5.30</td>\n",
       "      <td>5.9</td>\n",
       "      <td>5464</td>\n",
       "      <td>Petrol</td>\n",
       "      <td>Dealer</td>\n",
       "      <td>Manual</td>\n",
       "      <td>0</td>\n",
       "    </tr>\n",
       "  </tbody>\n",
       "</table>\n",
       "</div>"
      ],
      "text/plain": [
       "    Car_Name  Year  Selling_Price  Present_Price  Driven_kms Fuel_Type  \\\n",
       "296     city  2016           9.50           11.6       33988    Diesel   \n",
       "297     brio  2015           4.00            5.9       60000    Petrol   \n",
       "298     city  2009           3.35           11.0       87934    Petrol   \n",
       "299     city  2017          11.50           12.5        9000    Diesel   \n",
       "300     brio  2016           5.30            5.9        5464    Petrol   \n",
       "\n",
       "    Selling_type Transmission  Owner  \n",
       "296       Dealer       Manual      0  \n",
       "297       Dealer       Manual      0  \n",
       "298       Dealer       Manual      0  \n",
       "299       Dealer       Manual      0  \n",
       "300       Dealer       Manual      0  "
      ]
     },
     "execution_count": 6,
     "metadata": {},
     "output_type": "execute_result"
    }
   ],
   "source": [
    "#Displays last n rows (default 5)\n",
    "df.tail()"
   ]
  },
  {
   "cell_type": "code",
   "execution_count": 7,
   "id": "cbd341bd",
   "metadata": {
    "execution": {
     "iopub.execute_input": "2025-08-19T11:30:25.060137Z",
     "iopub.status.busy": "2025-08-19T11:30:25.059373Z",
     "iopub.status.idle": "2025-08-19T11:30:25.065419Z",
     "shell.execute_reply": "2025-08-19T11:30:25.064326Z"
    },
    "papermill": {
     "duration": 0.018387,
     "end_time": "2025-08-19T11:30:25.067038",
     "exception": false,
     "start_time": "2025-08-19T11:30:25.048651",
     "status": "completed"
    },
    "tags": []
   },
   "outputs": [
    {
     "data": {
      "text/plain": [
       "(301, 9)"
      ]
     },
     "execution_count": 7,
     "metadata": {},
     "output_type": "execute_result"
    }
   ],
   "source": [
    "#Returns (rows, columns) \n",
    "df.shape"
   ]
  },
  {
   "cell_type": "code",
   "execution_count": 8,
   "id": "b624fb44",
   "metadata": {
    "execution": {
     "iopub.execute_input": "2025-08-19T11:30:25.088230Z",
     "iopub.status.busy": "2025-08-19T11:30:25.087451Z",
     "iopub.status.idle": "2025-08-19T11:30:25.111297Z",
     "shell.execute_reply": "2025-08-19T11:30:25.110201Z"
    },
    "papermill": {
     "duration": 0.036399,
     "end_time": "2025-08-19T11:30:25.113089",
     "exception": false,
     "start_time": "2025-08-19T11:30:25.076690",
     "status": "completed"
    },
    "tags": []
   },
   "outputs": [
    {
     "name": "stdout",
     "output_type": "stream",
     "text": [
      "<class 'pandas.core.frame.DataFrame'>\n",
      "RangeIndex: 301 entries, 0 to 300\n",
      "Data columns (total 9 columns):\n",
      " #   Column         Non-Null Count  Dtype  \n",
      "---  ------         --------------  -----  \n",
      " 0   Car_Name       301 non-null    object \n",
      " 1   Year           301 non-null    int64  \n",
      " 2   Selling_Price  301 non-null    float64\n",
      " 3   Present_Price  301 non-null    float64\n",
      " 4   Driven_kms     301 non-null    int64  \n",
      " 5   Fuel_Type      301 non-null    object \n",
      " 6   Selling_type   301 non-null    object \n",
      " 7   Transmission   301 non-null    object \n",
      " 8   Owner          301 non-null    int64  \n",
      "dtypes: float64(2), int64(3), object(4)\n",
      "memory usage: 21.3+ KB\n"
     ]
    }
   ],
   "source": [
    "#Displays column data types & memory usage\n",
    "df.info()"
   ]
  },
  {
   "cell_type": "code",
   "execution_count": 9,
   "id": "34fb57a6",
   "metadata": {
    "execution": {
     "iopub.execute_input": "2025-08-19T11:30:25.134918Z",
     "iopub.status.busy": "2025-08-19T11:30:25.134588Z",
     "iopub.status.idle": "2025-08-19T11:30:25.140881Z",
     "shell.execute_reply": "2025-08-19T11:30:25.139999Z"
    },
    "papermill": {
     "duration": 0.018602,
     "end_time": "2025-08-19T11:30:25.142493",
     "exception": false,
     "start_time": "2025-08-19T11:30:25.123891",
     "status": "completed"
    },
    "tags": []
   },
   "outputs": [
    {
     "data": {
      "text/plain": [
       "Index(['Car_Name', 'Year', 'Selling_Price', 'Present_Price', 'Driven_kms',\n",
       "       'Fuel_Type', 'Selling_type', 'Transmission', 'Owner'],\n",
       "      dtype='object')"
      ]
     },
     "execution_count": 9,
     "metadata": {},
     "output_type": "execute_result"
    }
   ],
   "source": [
    "df.columns\n",
    "#Lists all column names"
   ]
  },
  {
   "cell_type": "code",
   "execution_count": 10,
   "id": "d468433e",
   "metadata": {
    "execution": {
     "iopub.execute_input": "2025-08-19T11:30:25.167866Z",
     "iopub.status.busy": "2025-08-19T11:30:25.167585Z",
     "iopub.status.idle": "2025-08-19T11:30:25.173920Z",
     "shell.execute_reply": "2025-08-19T11:30:25.173078Z"
    },
    "papermill": {
     "duration": 0.021733,
     "end_time": "2025-08-19T11:30:25.175641",
     "exception": false,
     "start_time": "2025-08-19T11:30:25.153908",
     "status": "completed"
    },
    "tags": []
   },
   "outputs": [
    {
     "data": {
      "text/plain": [
       "RangeIndex(start=0, stop=301, step=1)"
      ]
     },
     "execution_count": 10,
     "metadata": {},
     "output_type": "execute_result"
    }
   ],
   "source": [
    " df.index\n",
    "#Displays index range"
   ]
  },
  {
   "cell_type": "code",
   "execution_count": 11,
   "id": "e1dcbfd1",
   "metadata": {
    "execution": {
     "iopub.execute_input": "2025-08-19T11:30:25.267573Z",
     "iopub.status.busy": "2025-08-19T11:30:25.266779Z",
     "iopub.status.idle": "2025-08-19T11:30:25.274182Z",
     "shell.execute_reply": "2025-08-19T11:30:25.273183Z"
    },
    "papermill": {
     "duration": 0.020062,
     "end_time": "2025-08-19T11:30:25.275809",
     "exception": false,
     "start_time": "2025-08-19T11:30:25.255747",
     "status": "completed"
    },
    "tags": []
   },
   "outputs": [
    {
     "data": {
      "text/plain": [
       "Car_Name          object\n",
       "Year               int64\n",
       "Selling_Price    float64\n",
       "Present_Price    float64\n",
       "Driven_kms         int64\n",
       "Fuel_Type         object\n",
       "Selling_type      object\n",
       "Transmission      object\n",
       "Owner              int64\n",
       "dtype: object"
      ]
     },
     "execution_count": 11,
     "metadata": {},
     "output_type": "execute_result"
    }
   ],
   "source": [
    "df.dtypes\n",
    "#Shows data types of each column"
   ]
  },
  {
   "cell_type": "code",
   "execution_count": 12,
   "id": "97d2d346",
   "metadata": {
    "execution": {
     "iopub.execute_input": "2025-08-19T11:30:25.297923Z",
     "iopub.status.busy": "2025-08-19T11:30:25.297637Z",
     "iopub.status.idle": "2025-08-19T11:30:25.328383Z",
     "shell.execute_reply": "2025-08-19T11:30:25.327285Z"
    },
    "papermill": {
     "duration": 0.043894,
     "end_time": "2025-08-19T11:30:25.330027",
     "exception": false,
     "start_time": "2025-08-19T11:30:25.286133",
     "status": "completed"
    },
    "tags": []
   },
   "outputs": [
    {
     "data": {
      "text/html": [
       "<div>\n",
       "<style scoped>\n",
       "    .dataframe tbody tr th:only-of-type {\n",
       "        vertical-align: middle;\n",
       "    }\n",
       "\n",
       "    .dataframe tbody tr th {\n",
       "        vertical-align: top;\n",
       "    }\n",
       "\n",
       "    .dataframe thead th {\n",
       "        text-align: right;\n",
       "    }\n",
       "</style>\n",
       "<table border=\"1\" class=\"dataframe\">\n",
       "  <thead>\n",
       "    <tr style=\"text-align: right;\">\n",
       "      <th></th>\n",
       "      <th>Year</th>\n",
       "      <th>Selling_Price</th>\n",
       "      <th>Present_Price</th>\n",
       "      <th>Driven_kms</th>\n",
       "      <th>Owner</th>\n",
       "    </tr>\n",
       "  </thead>\n",
       "  <tbody>\n",
       "    <tr>\n",
       "      <th>count</th>\n",
       "      <td>301.000000</td>\n",
       "      <td>301.000000</td>\n",
       "      <td>301.000000</td>\n",
       "      <td>301.000000</td>\n",
       "      <td>301.000000</td>\n",
       "    </tr>\n",
       "    <tr>\n",
       "      <th>mean</th>\n",
       "      <td>2013.627907</td>\n",
       "      <td>4.661296</td>\n",
       "      <td>7.628472</td>\n",
       "      <td>36947.205980</td>\n",
       "      <td>0.043189</td>\n",
       "    </tr>\n",
       "    <tr>\n",
       "      <th>std</th>\n",
       "      <td>2.891554</td>\n",
       "      <td>5.082812</td>\n",
       "      <td>8.642584</td>\n",
       "      <td>38886.883882</td>\n",
       "      <td>0.247915</td>\n",
       "    </tr>\n",
       "    <tr>\n",
       "      <th>min</th>\n",
       "      <td>2003.000000</td>\n",
       "      <td>0.100000</td>\n",
       "      <td>0.320000</td>\n",
       "      <td>500.000000</td>\n",
       "      <td>0.000000</td>\n",
       "    </tr>\n",
       "    <tr>\n",
       "      <th>25%</th>\n",
       "      <td>2012.000000</td>\n",
       "      <td>0.900000</td>\n",
       "      <td>1.200000</td>\n",
       "      <td>15000.000000</td>\n",
       "      <td>0.000000</td>\n",
       "    </tr>\n",
       "    <tr>\n",
       "      <th>50%</th>\n",
       "      <td>2014.000000</td>\n",
       "      <td>3.600000</td>\n",
       "      <td>6.400000</td>\n",
       "      <td>32000.000000</td>\n",
       "      <td>0.000000</td>\n",
       "    </tr>\n",
       "    <tr>\n",
       "      <th>75%</th>\n",
       "      <td>2016.000000</td>\n",
       "      <td>6.000000</td>\n",
       "      <td>9.900000</td>\n",
       "      <td>48767.000000</td>\n",
       "      <td>0.000000</td>\n",
       "    </tr>\n",
       "    <tr>\n",
       "      <th>max</th>\n",
       "      <td>2018.000000</td>\n",
       "      <td>35.000000</td>\n",
       "      <td>92.600000</td>\n",
       "      <td>500000.000000</td>\n",
       "      <td>3.000000</td>\n",
       "    </tr>\n",
       "  </tbody>\n",
       "</table>\n",
       "</div>"
      ],
      "text/plain": [
       "              Year  Selling_Price  Present_Price     Driven_kms       Owner\n",
       "count   301.000000     301.000000     301.000000     301.000000  301.000000\n",
       "mean   2013.627907       4.661296       7.628472   36947.205980    0.043189\n",
       "std       2.891554       5.082812       8.642584   38886.883882    0.247915\n",
       "min    2003.000000       0.100000       0.320000     500.000000    0.000000\n",
       "25%    2012.000000       0.900000       1.200000   15000.000000    0.000000\n",
       "50%    2014.000000       3.600000       6.400000   32000.000000    0.000000\n",
       "75%    2016.000000       6.000000       9.900000   48767.000000    0.000000\n",
       "max    2018.000000      35.000000      92.600000  500000.000000    3.000000"
      ]
     },
     "execution_count": 12,
     "metadata": {},
     "output_type": "execute_result"
    }
   ],
   "source": [
    "df.describe()\n",
    "#Summary statistics for numerical columns"
   ]
  },
  {
   "cell_type": "code",
   "execution_count": 13,
   "id": "066eb87c",
   "metadata": {
    "execution": {
     "iopub.execute_input": "2025-08-19T11:30:25.352765Z",
     "iopub.status.busy": "2025-08-19T11:30:25.352451Z",
     "iopub.status.idle": "2025-08-19T11:30:25.385478Z",
     "shell.execute_reply": "2025-08-19T11:30:25.384448Z"
    },
    "papermill": {
     "duration": 0.04672,
     "end_time": "2025-08-19T11:30:25.387156",
     "exception": false,
     "start_time": "2025-08-19T11:30:25.340436",
     "status": "completed"
    },
    "tags": []
   },
   "outputs": [
    {
     "name": "stderr",
     "output_type": "stream",
     "text": [
      "/usr/local/lib/python3.11/dist-packages/pandas/io/formats/format.py:1458: RuntimeWarning: invalid value encountered in greater\n",
      "  has_large_values = (abs_vals > 1e6).any()\n",
      "/usr/local/lib/python3.11/dist-packages/pandas/io/formats/format.py:1459: RuntimeWarning: invalid value encountered in less\n",
      "  has_small_values = ((abs_vals < 10 ** (-self.digits)) & (abs_vals > 0)).any()\n",
      "/usr/local/lib/python3.11/dist-packages/pandas/io/formats/format.py:1459: RuntimeWarning: invalid value encountered in greater\n",
      "  has_small_values = ((abs_vals < 10 ** (-self.digits)) & (abs_vals > 0)).any()\n"
     ]
    },
    {
     "data": {
      "text/html": [
       "<div>\n",
       "<style scoped>\n",
       "    .dataframe tbody tr th:only-of-type {\n",
       "        vertical-align: middle;\n",
       "    }\n",
       "\n",
       "    .dataframe tbody tr th {\n",
       "        vertical-align: top;\n",
       "    }\n",
       "\n",
       "    .dataframe thead th {\n",
       "        text-align: right;\n",
       "    }\n",
       "</style>\n",
       "<table border=\"1\" class=\"dataframe\">\n",
       "  <thead>\n",
       "    <tr style=\"text-align: right;\">\n",
       "      <th></th>\n",
       "      <th>Car_Name</th>\n",
       "      <th>Year</th>\n",
       "      <th>Selling_Price</th>\n",
       "      <th>Present_Price</th>\n",
       "      <th>Driven_kms</th>\n",
       "      <th>Fuel_Type</th>\n",
       "      <th>Selling_type</th>\n",
       "      <th>Transmission</th>\n",
       "      <th>Owner</th>\n",
       "    </tr>\n",
       "  </thead>\n",
       "  <tbody>\n",
       "    <tr>\n",
       "      <th>count</th>\n",
       "      <td>301</td>\n",
       "      <td>301.000000</td>\n",
       "      <td>301.000000</td>\n",
       "      <td>301.000000</td>\n",
       "      <td>301.000000</td>\n",
       "      <td>301</td>\n",
       "      <td>301</td>\n",
       "      <td>301</td>\n",
       "      <td>301.000000</td>\n",
       "    </tr>\n",
       "    <tr>\n",
       "      <th>unique</th>\n",
       "      <td>98</td>\n",
       "      <td>NaN</td>\n",
       "      <td>NaN</td>\n",
       "      <td>NaN</td>\n",
       "      <td>NaN</td>\n",
       "      <td>3</td>\n",
       "      <td>2</td>\n",
       "      <td>2</td>\n",
       "      <td>NaN</td>\n",
       "    </tr>\n",
       "    <tr>\n",
       "      <th>top</th>\n",
       "      <td>city</td>\n",
       "      <td>NaN</td>\n",
       "      <td>NaN</td>\n",
       "      <td>NaN</td>\n",
       "      <td>NaN</td>\n",
       "      <td>Petrol</td>\n",
       "      <td>Dealer</td>\n",
       "      <td>Manual</td>\n",
       "      <td>NaN</td>\n",
       "    </tr>\n",
       "    <tr>\n",
       "      <th>freq</th>\n",
       "      <td>26</td>\n",
       "      <td>NaN</td>\n",
       "      <td>NaN</td>\n",
       "      <td>NaN</td>\n",
       "      <td>NaN</td>\n",
       "      <td>239</td>\n",
       "      <td>195</td>\n",
       "      <td>261</td>\n",
       "      <td>NaN</td>\n",
       "    </tr>\n",
       "    <tr>\n",
       "      <th>mean</th>\n",
       "      <td>NaN</td>\n",
       "      <td>2013.627907</td>\n",
       "      <td>4.661296</td>\n",
       "      <td>7.628472</td>\n",
       "      <td>36947.205980</td>\n",
       "      <td>NaN</td>\n",
       "      <td>NaN</td>\n",
       "      <td>NaN</td>\n",
       "      <td>0.043189</td>\n",
       "    </tr>\n",
       "    <tr>\n",
       "      <th>std</th>\n",
       "      <td>NaN</td>\n",
       "      <td>2.891554</td>\n",
       "      <td>5.082812</td>\n",
       "      <td>8.642584</td>\n",
       "      <td>38886.883882</td>\n",
       "      <td>NaN</td>\n",
       "      <td>NaN</td>\n",
       "      <td>NaN</td>\n",
       "      <td>0.247915</td>\n",
       "    </tr>\n",
       "    <tr>\n",
       "      <th>min</th>\n",
       "      <td>NaN</td>\n",
       "      <td>2003.000000</td>\n",
       "      <td>0.100000</td>\n",
       "      <td>0.320000</td>\n",
       "      <td>500.000000</td>\n",
       "      <td>NaN</td>\n",
       "      <td>NaN</td>\n",
       "      <td>NaN</td>\n",
       "      <td>0.000000</td>\n",
       "    </tr>\n",
       "    <tr>\n",
       "      <th>25%</th>\n",
       "      <td>NaN</td>\n",
       "      <td>2012.000000</td>\n",
       "      <td>0.900000</td>\n",
       "      <td>1.200000</td>\n",
       "      <td>15000.000000</td>\n",
       "      <td>NaN</td>\n",
       "      <td>NaN</td>\n",
       "      <td>NaN</td>\n",
       "      <td>0.000000</td>\n",
       "    </tr>\n",
       "    <tr>\n",
       "      <th>50%</th>\n",
       "      <td>NaN</td>\n",
       "      <td>2014.000000</td>\n",
       "      <td>3.600000</td>\n",
       "      <td>6.400000</td>\n",
       "      <td>32000.000000</td>\n",
       "      <td>NaN</td>\n",
       "      <td>NaN</td>\n",
       "      <td>NaN</td>\n",
       "      <td>0.000000</td>\n",
       "    </tr>\n",
       "    <tr>\n",
       "      <th>75%</th>\n",
       "      <td>NaN</td>\n",
       "      <td>2016.000000</td>\n",
       "      <td>6.000000</td>\n",
       "      <td>9.900000</td>\n",
       "      <td>48767.000000</td>\n",
       "      <td>NaN</td>\n",
       "      <td>NaN</td>\n",
       "      <td>NaN</td>\n",
       "      <td>0.000000</td>\n",
       "    </tr>\n",
       "    <tr>\n",
       "      <th>max</th>\n",
       "      <td>NaN</td>\n",
       "      <td>2018.000000</td>\n",
       "      <td>35.000000</td>\n",
       "      <td>92.600000</td>\n",
       "      <td>500000.000000</td>\n",
       "      <td>NaN</td>\n",
       "      <td>NaN</td>\n",
       "      <td>NaN</td>\n",
       "      <td>3.000000</td>\n",
       "    </tr>\n",
       "  </tbody>\n",
       "</table>\n",
       "</div>"
      ],
      "text/plain": [
       "       Car_Name         Year  Selling_Price  Present_Price     Driven_kms  \\\n",
       "count       301   301.000000     301.000000     301.000000     301.000000   \n",
       "unique       98          NaN            NaN            NaN            NaN   \n",
       "top        city          NaN            NaN            NaN            NaN   \n",
       "freq         26          NaN            NaN            NaN            NaN   \n",
       "mean        NaN  2013.627907       4.661296       7.628472   36947.205980   \n",
       "std         NaN     2.891554       5.082812       8.642584   38886.883882   \n",
       "min         NaN  2003.000000       0.100000       0.320000     500.000000   \n",
       "25%         NaN  2012.000000       0.900000       1.200000   15000.000000   \n",
       "50%         NaN  2014.000000       3.600000       6.400000   32000.000000   \n",
       "75%         NaN  2016.000000       6.000000       9.900000   48767.000000   \n",
       "max         NaN  2018.000000      35.000000      92.600000  500000.000000   \n",
       "\n",
       "       Fuel_Type Selling_type Transmission       Owner  \n",
       "count        301          301          301  301.000000  \n",
       "unique         3            2            2         NaN  \n",
       "top       Petrol       Dealer       Manual         NaN  \n",
       "freq         239          195          261         NaN  \n",
       "mean         NaN          NaN          NaN    0.043189  \n",
       "std          NaN          NaN          NaN    0.247915  \n",
       "min          NaN          NaN          NaN    0.000000  \n",
       "25%          NaN          NaN          NaN    0.000000  \n",
       "50%          NaN          NaN          NaN    0.000000  \n",
       "75%          NaN          NaN          NaN    0.000000  \n",
       "max          NaN          NaN          NaN    3.000000  "
      ]
     },
     "execution_count": 13,
     "metadata": {},
     "output_type": "execute_result"
    }
   ],
   "source": [
    "df.describe(include=\"all\") \n",
    "#Summary statistics for all columns"
   ]
  },
  {
   "cell_type": "markdown",
   "id": "02f3205d",
   "metadata": {
    "papermill": {
     "duration": 0.010455,
     "end_time": "2025-08-19T11:30:25.408718",
     "exception": false,
     "start_time": "2025-08-19T11:30:25.398263",
     "status": "completed"
    },
    "tags": []
   },
   "source": [
    "# Checking Missing Values"
   ]
  },
  {
   "cell_type": "code",
   "execution_count": 14,
   "id": "b176cf07",
   "metadata": {
    "execution": {
     "iopub.execute_input": "2025-08-19T11:30:25.431344Z",
     "iopub.status.busy": "2025-08-19T11:30:25.431006Z",
     "iopub.status.idle": "2025-08-19T11:30:25.438569Z",
     "shell.execute_reply": "2025-08-19T11:30:25.437648Z"
    },
    "papermill": {
     "duration": 0.020799,
     "end_time": "2025-08-19T11:30:25.440205",
     "exception": false,
     "start_time": "2025-08-19T11:30:25.419406",
     "status": "completed"
    },
    "tags": []
   },
   "outputs": [
    {
     "data": {
      "text/plain": [
       "Car_Name         0\n",
       "Year             0\n",
       "Selling_Price    0\n",
       "Present_Price    0\n",
       "Driven_kms       0\n",
       "Fuel_Type        0\n",
       "Selling_type     0\n",
       "Transmission     0\n",
       "Owner            0\n",
       "dtype: int64"
      ]
     },
     "execution_count": 14,
     "metadata": {},
     "output_type": "execute_result"
    }
   ],
   "source": [
    "df.isnull().sum()\n",
    "#Counts missing values in each column"
   ]
  },
  {
   "cell_type": "code",
   "execution_count": 15,
   "id": "5911a300",
   "metadata": {
    "execution": {
     "iopub.execute_input": "2025-08-19T11:30:25.463428Z",
     "iopub.status.busy": "2025-08-19T11:30:25.462758Z",
     "iopub.status.idle": "2025-08-19T11:30:25.470783Z",
     "shell.execute_reply": "2025-08-19T11:30:25.470001Z"
    },
    "papermill": {
     "duration": 0.021094,
     "end_time": "2025-08-19T11:30:25.472344",
     "exception": false,
     "start_time": "2025-08-19T11:30:25.451250",
     "status": "completed"
    },
    "tags": []
   },
   "outputs": [
    {
     "data": {
      "text/plain": [
       "Car_Name         0\n",
       "Year             0\n",
       "Selling_Price    0\n",
       "Present_Price    0\n",
       "Driven_kms       0\n",
       "Fuel_Type        0\n",
       "Selling_type     0\n",
       "Transmission     0\n",
       "Owner            0\n",
       "dtype: int64"
      ]
     },
     "execution_count": 15,
     "metadata": {},
     "output_type": "execute_result"
    }
   ],
   "source": [
    "df.isna().sum()\n",
    "#Same as isnull()"
   ]
  },
  {
   "cell_type": "code",
   "execution_count": 16,
   "id": "1e25a065",
   "metadata": {
    "execution": {
     "iopub.execute_input": "2025-08-19T11:30:25.495079Z",
     "iopub.status.busy": "2025-08-19T11:30:25.494721Z",
     "iopub.status.idle": "2025-08-19T11:30:25.510039Z",
     "shell.execute_reply": "2025-08-19T11:30:25.509138Z"
    },
    "papermill": {
     "duration": 0.028555,
     "end_time": "2025-08-19T11:30:25.511655",
     "exception": false,
     "start_time": "2025-08-19T11:30:25.483100",
     "status": "completed"
    },
    "tags": []
   },
   "outputs": [
    {
     "data": {
      "text/html": [
       "<div>\n",
       "<style scoped>\n",
       "    .dataframe tbody tr th:only-of-type {\n",
       "        vertical-align: middle;\n",
       "    }\n",
       "\n",
       "    .dataframe tbody tr th {\n",
       "        vertical-align: top;\n",
       "    }\n",
       "\n",
       "    .dataframe thead th {\n",
       "        text-align: right;\n",
       "    }\n",
       "</style>\n",
       "<table border=\"1\" class=\"dataframe\">\n",
       "  <thead>\n",
       "    <tr style=\"text-align: right;\">\n",
       "      <th></th>\n",
       "      <th>Car_Name</th>\n",
       "      <th>Year</th>\n",
       "      <th>Selling_Price</th>\n",
       "      <th>Present_Price</th>\n",
       "      <th>Driven_kms</th>\n",
       "      <th>Fuel_Type</th>\n",
       "      <th>Selling_type</th>\n",
       "      <th>Transmission</th>\n",
       "      <th>Owner</th>\n",
       "    </tr>\n",
       "  </thead>\n",
       "  <tbody>\n",
       "    <tr>\n",
       "      <th>17</th>\n",
       "      <td>ertiga</td>\n",
       "      <td>2016</td>\n",
       "      <td>7.75</td>\n",
       "      <td>10.79</td>\n",
       "      <td>43000</td>\n",
       "      <td>Diesel</td>\n",
       "      <td>Dealer</td>\n",
       "      <td>Manual</td>\n",
       "      <td>0</td>\n",
       "    </tr>\n",
       "    <tr>\n",
       "      <th>93</th>\n",
       "      <td>fortuner</td>\n",
       "      <td>2015</td>\n",
       "      <td>23.00</td>\n",
       "      <td>30.61</td>\n",
       "      <td>40000</td>\n",
       "      <td>Diesel</td>\n",
       "      <td>Dealer</td>\n",
       "      <td>Automatic</td>\n",
       "      <td>0</td>\n",
       "    </tr>\n",
       "  </tbody>\n",
       "</table>\n",
       "</div>"
      ],
      "text/plain": [
       "    Car_Name  Year  Selling_Price  Present_Price  Driven_kms Fuel_Type  \\\n",
       "17    ertiga  2016           7.75          10.79       43000    Diesel   \n",
       "93  fortuner  2015          23.00          30.61       40000    Diesel   \n",
       "\n",
       "   Selling_type Transmission  Owner  \n",
       "17       Dealer       Manual      0  \n",
       "93       Dealer    Automatic      0  "
      ]
     },
     "execution_count": 16,
     "metadata": {},
     "output_type": "execute_result"
    }
   ],
   "source": [
    "df[df.duplicated()] \n",
    "#Displays duplicate rows"
   ]
  },
  {
   "cell_type": "code",
   "execution_count": 17,
   "id": "be20332a",
   "metadata": {
    "execution": {
     "iopub.execute_input": "2025-08-19T11:30:25.535126Z",
     "iopub.status.busy": "2025-08-19T11:30:25.534720Z",
     "iopub.status.idle": "2025-08-19T11:30:25.550125Z",
     "shell.execute_reply": "2025-08-19T11:30:25.549192Z"
    },
    "papermill": {
     "duration": 0.028765,
     "end_time": "2025-08-19T11:30:25.551652",
     "exception": false,
     "start_time": "2025-08-19T11:30:25.522887",
     "status": "completed"
    },
    "tags": []
   },
   "outputs": [
    {
     "data": {
      "text/html": [
       "<div>\n",
       "<style scoped>\n",
       "    .dataframe tbody tr th:only-of-type {\n",
       "        vertical-align: middle;\n",
       "    }\n",
       "\n",
       "    .dataframe tbody tr th {\n",
       "        vertical-align: top;\n",
       "    }\n",
       "\n",
       "    .dataframe thead th {\n",
       "        text-align: right;\n",
       "    }\n",
       "</style>\n",
       "<table border=\"1\" class=\"dataframe\">\n",
       "  <thead>\n",
       "    <tr style=\"text-align: right;\">\n",
       "      <th></th>\n",
       "      <th>Car_Name</th>\n",
       "      <th>Year</th>\n",
       "      <th>Selling_Price</th>\n",
       "      <th>Present_Price</th>\n",
       "      <th>Driven_kms</th>\n",
       "      <th>Fuel_Type</th>\n",
       "      <th>Selling_type</th>\n",
       "      <th>Transmission</th>\n",
       "      <th>Owner</th>\n",
       "    </tr>\n",
       "  </thead>\n",
       "  <tbody>\n",
       "    <tr>\n",
       "      <th>0</th>\n",
       "      <td>ritz</td>\n",
       "      <td>2014</td>\n",
       "      <td>3.35</td>\n",
       "      <td>5.59</td>\n",
       "      <td>27000</td>\n",
       "      <td>Petrol</td>\n",
       "      <td>Dealer</td>\n",
       "      <td>Manual</td>\n",
       "      <td>0</td>\n",
       "    </tr>\n",
       "    <tr>\n",
       "      <th>1</th>\n",
       "      <td>sx4</td>\n",
       "      <td>2013</td>\n",
       "      <td>4.75</td>\n",
       "      <td>9.54</td>\n",
       "      <td>43000</td>\n",
       "      <td>Diesel</td>\n",
       "      <td>Dealer</td>\n",
       "      <td>Manual</td>\n",
       "      <td>0</td>\n",
       "    </tr>\n",
       "    <tr>\n",
       "      <th>2</th>\n",
       "      <td>ciaz</td>\n",
       "      <td>2017</td>\n",
       "      <td>7.25</td>\n",
       "      <td>9.85</td>\n",
       "      <td>6900</td>\n",
       "      <td>Petrol</td>\n",
       "      <td>Dealer</td>\n",
       "      <td>Manual</td>\n",
       "      <td>0</td>\n",
       "    </tr>\n",
       "    <tr>\n",
       "      <th>3</th>\n",
       "      <td>wagon r</td>\n",
       "      <td>2011</td>\n",
       "      <td>2.85</td>\n",
       "      <td>4.15</td>\n",
       "      <td>5200</td>\n",
       "      <td>Petrol</td>\n",
       "      <td>Dealer</td>\n",
       "      <td>Manual</td>\n",
       "      <td>0</td>\n",
       "    </tr>\n",
       "    <tr>\n",
       "      <th>4</th>\n",
       "      <td>swift</td>\n",
       "      <td>2014</td>\n",
       "      <td>4.60</td>\n",
       "      <td>6.87</td>\n",
       "      <td>42450</td>\n",
       "      <td>Diesel</td>\n",
       "      <td>Dealer</td>\n",
       "      <td>Manual</td>\n",
       "      <td>0</td>\n",
       "    </tr>\n",
       "    <tr>\n",
       "      <th>...</th>\n",
       "      <td>...</td>\n",
       "      <td>...</td>\n",
       "      <td>...</td>\n",
       "      <td>...</td>\n",
       "      <td>...</td>\n",
       "      <td>...</td>\n",
       "      <td>...</td>\n",
       "      <td>...</td>\n",
       "      <td>...</td>\n",
       "    </tr>\n",
       "    <tr>\n",
       "      <th>296</th>\n",
       "      <td>city</td>\n",
       "      <td>2016</td>\n",
       "      <td>9.50</td>\n",
       "      <td>11.60</td>\n",
       "      <td>33988</td>\n",
       "      <td>Diesel</td>\n",
       "      <td>Dealer</td>\n",
       "      <td>Manual</td>\n",
       "      <td>0</td>\n",
       "    </tr>\n",
       "    <tr>\n",
       "      <th>297</th>\n",
       "      <td>brio</td>\n",
       "      <td>2015</td>\n",
       "      <td>4.00</td>\n",
       "      <td>5.90</td>\n",
       "      <td>60000</td>\n",
       "      <td>Petrol</td>\n",
       "      <td>Dealer</td>\n",
       "      <td>Manual</td>\n",
       "      <td>0</td>\n",
       "    </tr>\n",
       "    <tr>\n",
       "      <th>298</th>\n",
       "      <td>city</td>\n",
       "      <td>2009</td>\n",
       "      <td>3.35</td>\n",
       "      <td>11.00</td>\n",
       "      <td>87934</td>\n",
       "      <td>Petrol</td>\n",
       "      <td>Dealer</td>\n",
       "      <td>Manual</td>\n",
       "      <td>0</td>\n",
       "    </tr>\n",
       "    <tr>\n",
       "      <th>299</th>\n",
       "      <td>city</td>\n",
       "      <td>2017</td>\n",
       "      <td>11.50</td>\n",
       "      <td>12.50</td>\n",
       "      <td>9000</td>\n",
       "      <td>Diesel</td>\n",
       "      <td>Dealer</td>\n",
       "      <td>Manual</td>\n",
       "      <td>0</td>\n",
       "    </tr>\n",
       "    <tr>\n",
       "      <th>300</th>\n",
       "      <td>brio</td>\n",
       "      <td>2016</td>\n",
       "      <td>5.30</td>\n",
       "      <td>5.90</td>\n",
       "      <td>5464</td>\n",
       "      <td>Petrol</td>\n",
       "      <td>Dealer</td>\n",
       "      <td>Manual</td>\n",
       "      <td>0</td>\n",
       "    </tr>\n",
       "  </tbody>\n",
       "</table>\n",
       "<p>299 rows × 9 columns</p>\n",
       "</div>"
      ],
      "text/plain": [
       "    Car_Name  Year  Selling_Price  Present_Price  Driven_kms Fuel_Type  \\\n",
       "0       ritz  2014           3.35           5.59       27000    Petrol   \n",
       "1        sx4  2013           4.75           9.54       43000    Diesel   \n",
       "2       ciaz  2017           7.25           9.85        6900    Petrol   \n",
       "3    wagon r  2011           2.85           4.15        5200    Petrol   \n",
       "4      swift  2014           4.60           6.87       42450    Diesel   \n",
       "..       ...   ...            ...            ...         ...       ...   \n",
       "296     city  2016           9.50          11.60       33988    Diesel   \n",
       "297     brio  2015           4.00           5.90       60000    Petrol   \n",
       "298     city  2009           3.35          11.00       87934    Petrol   \n",
       "299     city  2017          11.50          12.50        9000    Diesel   \n",
       "300     brio  2016           5.30           5.90        5464    Petrol   \n",
       "\n",
       "    Selling_type Transmission  Owner  \n",
       "0         Dealer       Manual      0  \n",
       "1         Dealer       Manual      0  \n",
       "2         Dealer       Manual      0  \n",
       "3         Dealer       Manual      0  \n",
       "4         Dealer       Manual      0  \n",
       "..           ...          ...    ...  \n",
       "296       Dealer       Manual      0  \n",
       "297       Dealer       Manual      0  \n",
       "298       Dealer       Manual      0  \n",
       "299       Dealer       Manual      0  \n",
       "300       Dealer       Manual      0  \n",
       "\n",
       "[299 rows x 9 columns]"
      ]
     },
     "execution_count": 17,
     "metadata": {},
     "output_type": "execute_result"
    }
   ],
   "source": [
    "df.drop_duplicates()\n",
    "#Removes duplicate rows"
   ]
  },
  {
   "cell_type": "markdown",
   "id": "827eca08",
   "metadata": {
    "papermill": {
     "duration": 0.011001,
     "end_time": "2025-08-19T11:30:25.574553",
     "exception": false,
     "start_time": "2025-08-19T11:30:25.563552",
     "status": "completed"
    },
    "tags": []
   },
   "source": [
    "# Summary Statistics"
   ]
  },
  {
   "cell_type": "code",
   "execution_count": 18,
   "id": "78e51f12",
   "metadata": {
    "execution": {
     "iopub.execute_input": "2025-08-19T11:30:25.598058Z",
     "iopub.status.busy": "2025-08-19T11:30:25.597703Z",
     "iopub.status.idle": "2025-08-19T11:30:25.620175Z",
     "shell.execute_reply": "2025-08-19T11:30:25.619113Z"
    },
    "papermill": {
     "duration": 0.036092,
     "end_time": "2025-08-19T11:30:25.621700",
     "exception": false,
     "start_time": "2025-08-19T11:30:25.585608",
     "status": "completed"
    },
    "tags": []
   },
   "outputs": [
    {
     "data": {
      "text/html": [
       "<div>\n",
       "<style scoped>\n",
       "    .dataframe tbody tr th:only-of-type {\n",
       "        vertical-align: middle;\n",
       "    }\n",
       "\n",
       "    .dataframe tbody tr th {\n",
       "        vertical-align: top;\n",
       "    }\n",
       "\n",
       "    .dataframe thead th {\n",
       "        text-align: right;\n",
       "    }\n",
       "</style>\n",
       "<table border=\"1\" class=\"dataframe\">\n",
       "  <thead>\n",
       "    <tr style=\"text-align: right;\">\n",
       "      <th></th>\n",
       "      <th>Year</th>\n",
       "      <th>Selling_Price</th>\n",
       "      <th>Present_Price</th>\n",
       "      <th>Driven_kms</th>\n",
       "      <th>Owner</th>\n",
       "    </tr>\n",
       "  </thead>\n",
       "  <tbody>\n",
       "    <tr>\n",
       "      <th>count</th>\n",
       "      <td>301.000000</td>\n",
       "      <td>301.000000</td>\n",
       "      <td>301.000000</td>\n",
       "      <td>301.000000</td>\n",
       "      <td>301.000000</td>\n",
       "    </tr>\n",
       "    <tr>\n",
       "      <th>mean</th>\n",
       "      <td>2013.627907</td>\n",
       "      <td>4.661296</td>\n",
       "      <td>7.628472</td>\n",
       "      <td>36947.205980</td>\n",
       "      <td>0.043189</td>\n",
       "    </tr>\n",
       "    <tr>\n",
       "      <th>std</th>\n",
       "      <td>2.891554</td>\n",
       "      <td>5.082812</td>\n",
       "      <td>8.642584</td>\n",
       "      <td>38886.883882</td>\n",
       "      <td>0.247915</td>\n",
       "    </tr>\n",
       "    <tr>\n",
       "      <th>min</th>\n",
       "      <td>2003.000000</td>\n",
       "      <td>0.100000</td>\n",
       "      <td>0.320000</td>\n",
       "      <td>500.000000</td>\n",
       "      <td>0.000000</td>\n",
       "    </tr>\n",
       "    <tr>\n",
       "      <th>25%</th>\n",
       "      <td>2012.000000</td>\n",
       "      <td>0.900000</td>\n",
       "      <td>1.200000</td>\n",
       "      <td>15000.000000</td>\n",
       "      <td>0.000000</td>\n",
       "    </tr>\n",
       "    <tr>\n",
       "      <th>50%</th>\n",
       "      <td>2014.000000</td>\n",
       "      <td>3.600000</td>\n",
       "      <td>6.400000</td>\n",
       "      <td>32000.000000</td>\n",
       "      <td>0.000000</td>\n",
       "    </tr>\n",
       "    <tr>\n",
       "      <th>75%</th>\n",
       "      <td>2016.000000</td>\n",
       "      <td>6.000000</td>\n",
       "      <td>9.900000</td>\n",
       "      <td>48767.000000</td>\n",
       "      <td>0.000000</td>\n",
       "    </tr>\n",
       "    <tr>\n",
       "      <th>max</th>\n",
       "      <td>2018.000000</td>\n",
       "      <td>35.000000</td>\n",
       "      <td>92.600000</td>\n",
       "      <td>500000.000000</td>\n",
       "      <td>3.000000</td>\n",
       "    </tr>\n",
       "  </tbody>\n",
       "</table>\n",
       "</div>"
      ],
      "text/plain": [
       "              Year  Selling_Price  Present_Price     Driven_kms       Owner\n",
       "count   301.000000     301.000000     301.000000     301.000000  301.000000\n",
       "mean   2013.627907       4.661296       7.628472   36947.205980    0.043189\n",
       "std       2.891554       5.082812       8.642584   38886.883882    0.247915\n",
       "min    2003.000000       0.100000       0.320000     500.000000    0.000000\n",
       "25%    2012.000000       0.900000       1.200000   15000.000000    0.000000\n",
       "50%    2014.000000       3.600000       6.400000   32000.000000    0.000000\n",
       "75%    2016.000000       6.000000       9.900000   48767.000000    0.000000\n",
       "max    2018.000000      35.000000      92.600000  500000.000000    3.000000"
      ]
     },
     "execution_count": 18,
     "metadata": {},
     "output_type": "execute_result"
    }
   ],
   "source": [
    "df.describe()"
   ]
  },
  {
   "cell_type": "code",
   "execution_count": 19,
   "id": "b6042d14",
   "metadata": {
    "execution": {
     "iopub.execute_input": "2025-08-19T11:30:25.647111Z",
     "iopub.status.busy": "2025-08-19T11:30:25.646727Z",
     "iopub.status.idle": "2025-08-19T11:30:25.658384Z",
     "shell.execute_reply": "2025-08-19T11:30:25.657337Z"
    },
    "papermill": {
     "duration": 0.026917,
     "end_time": "2025-08-19T11:30:25.660154",
     "exception": false,
     "start_time": "2025-08-19T11:30:25.633237",
     "status": "completed"
    },
    "tags": []
   },
   "outputs": [
    {
     "data": {
      "text/plain": [
       "Car_Name          98\n",
       "Year              16\n",
       "Selling_Price    156\n",
       "Present_Price    148\n",
       "Driven_kms       206\n",
       "Fuel_Type          3\n",
       "Selling_type       2\n",
       "Transmission       2\n",
       "Owner              3\n",
       "dtype: int64"
      ]
     },
     "execution_count": 19,
     "metadata": {},
     "output_type": "execute_result"
    }
   ],
   "source": [
    " df.nunique()\n",
    "#Number of unique values per column"
   ]
  },
  {
   "cell_type": "markdown",
   "id": "5323b540",
   "metadata": {
    "papermill": {
     "duration": 0.011128,
     "end_time": "2025-08-19T11:30:25.683434",
     "exception": false,
     "start_time": "2025-08-19T11:30:25.672306",
     "status": "completed"
    },
    "tags": []
   },
   "source": [
    "# Value Counts & Distributions"
   ]
  },
  {
   "cell_type": "code",
   "execution_count": 20,
   "id": "ffe43b61",
   "metadata": {
    "execution": {
     "iopub.execute_input": "2025-08-19T11:30:25.707476Z",
     "iopub.status.busy": "2025-08-19T11:30:25.707104Z",
     "iopub.status.idle": "2025-08-19T11:30:25.715158Z",
     "shell.execute_reply": "2025-08-19T11:30:25.714226Z"
    },
    "papermill": {
     "duration": 0.022147,
     "end_time": "2025-08-19T11:30:25.716818",
     "exception": false,
     "start_time": "2025-08-19T11:30:25.694671",
     "status": "completed"
    },
    "tags": []
   },
   "outputs": [
    {
     "data": {
      "text/plain": [
       "Car_Name         1\n",
       "Year             1\n",
       "Selling_Price    1\n",
       "Present_Price    1\n",
       "Driven_kms       1\n",
       "Fuel_Type        1\n",
       "Selling_type     1\n",
       "Transmission     1\n",
       "Owner            1\n",
       "Name: count, dtype: int64"
      ]
     },
     "execution_count": 20,
     "metadata": {},
     "output_type": "execute_result"
    }
   ],
   "source": [
    "df.columns.value_counts()\n",
    "#Count soccurrences of each unique value"
   ]
  },
  {
   "cell_type": "code",
   "execution_count": 21,
   "id": "e83ea7eb",
   "metadata": {
    "execution": {
     "iopub.execute_input": "2025-08-19T11:30:25.741958Z",
     "iopub.status.busy": "2025-08-19T11:30:25.741611Z",
     "iopub.status.idle": "2025-08-19T11:30:25.750341Z",
     "shell.execute_reply": "2025-08-19T11:30:25.749370Z"
    },
    "papermill": {
     "duration": 0.023224,
     "end_time": "2025-08-19T11:30:25.752125",
     "exception": false,
     "start_time": "2025-08-19T11:30:25.728901",
     "status": "completed"
    },
    "tags": []
   },
   "outputs": [
    {
     "data": {
      "text/plain": [
       "Car_Name         0.111111\n",
       "Year             0.111111\n",
       "Selling_Price    0.111111\n",
       "Present_Price    0.111111\n",
       "Driven_kms       0.111111\n",
       "Fuel_Type        0.111111\n",
       "Selling_type     0.111111\n",
       "Transmission     0.111111\n",
       "Owner            0.111111\n",
       "Name: proportion, dtype: float64"
      ]
     },
     "execution_count": 21,
     "metadata": {},
     "output_type": "execute_result"
    }
   ],
   "source": [
    "df.columns.value_counts(normalize=True)\n",
    "#Normalized value counts (percentage)"
   ]
  },
  {
   "cell_type": "markdown",
   "id": "70c8b972",
   "metadata": {
    "papermill": {
     "duration": 0.011238,
     "end_time": "2025-08-19T11:30:25.775929",
     "exception": false,
     "start_time": "2025-08-19T11:30:25.764691",
     "status": "completed"
    },
    "tags": []
   },
   "source": [
    "# Data Visualization (Quick Plots)"
   ]
  },
  {
   "cell_type": "code",
   "execution_count": 22,
   "id": "b2cf2d05",
   "metadata": {
    "execution": {
     "iopub.execute_input": "2025-08-19T11:30:25.800397Z",
     "iopub.status.busy": "2025-08-19T11:30:25.800041Z",
     "iopub.status.idle": "2025-08-19T11:30:26.881506Z",
     "shell.execute_reply": "2025-08-19T11:30:26.880412Z"
    },
    "papermill": {
     "duration": 1.096094,
     "end_time": "2025-08-19T11:30:26.883379",
     "exception": false,
     "start_time": "2025-08-19T11:30:25.787285",
     "status": "completed"
    },
    "tags": []
   },
   "outputs": [
    {
     "data": {
      "text/plain": [
       "array([[<Axes: title={'center': 'Year'}>,\n",
       "        <Axes: title={'center': 'Selling_Price'}>],\n",
       "       [<Axes: title={'center': 'Present_Price'}>,\n",
       "        <Axes: title={'center': 'Driven_kms'}>],\n",
       "       [<Axes: title={'center': 'Owner'}>, <Axes: >]], dtype=object)"
      ]
     },
     "execution_count": 22,
     "metadata": {},
     "output_type": "execute_result"
    },
    {
     "data": {
      "image/png": "[encoded data removed]",
      "text/plain": [
       "<Figure size 1000x500 with 6 Axes>"
      ]
     },
     "metadata": {},
     "output_type": "display_data"
    }
   ],
   "source": [
    "df.hist(figsize=(10, 5))\n",
    "#Histogram for numerical columns"
   ]
  },
  {
   "cell_type": "code",
   "execution_count": 23,
   "id": "5850ce85",
   "metadata": {
    "execution": {
     "iopub.execute_input": "2025-08-19T11:30:26.909944Z",
     "iopub.status.busy": "2025-08-19T11:30:26.909645Z",
     "iopub.status.idle": "2025-08-19T11:30:27.098818Z",
     "shell.execute_reply": "2025-08-19T11:30:27.097907Z"
    },
    "papermill": {
     "duration": 0.204267,
     "end_time": "2025-08-19T11:30:27.100568",
     "exception": false,
     "start_time": "2025-08-19T11:30:26.896301",
     "status": "completed"
    },
    "tags": []
   },
   "outputs": [
    {
     "data": {
      "text/plain": [
       "<Axes: >"
      ]
     },
     "execution_count": 23,
     "metadata": {},
     "output_type": "execute_result"
    },
    {
     "data": {
      "image/png": "[encoded data removed]",
      "text/plain": [
       "<Figure size 1000x500 with 1 Axes>"
      ]
     },
     "metadata": {},
     "output_type": "display_data"
    }
   ],
   "source": [
    "df.boxplot(figsize=(10, 5))\n",
    "#Box plot for outlier detection "
   ]
  },
  {
   "cell_type": "code",
   "execution_count": 24,
   "id": "ac7396b2",
   "metadata": {
    "execution": {
     "iopub.execute_input": "2025-08-19T11:30:27.128173Z",
     "iopub.status.busy": "2025-08-19T11:30:27.127806Z",
     "iopub.status.idle": "2025-08-19T11:30:27.332428Z",
     "shell.execute_reply": "2025-08-19T11:30:27.331344Z"
    },
    "papermill": {
     "duration": 0.220256,
     "end_time": "2025-08-19T11:30:27.333947",
     "exception": false,
     "start_time": "2025-08-19T11:30:27.113691",
     "status": "completed"
    },
    "tags": []
   },
   "outputs": [
    {
     "data": {
      "text/plain": [
       "<Axes: ylabel='Frequency'>"
      ]
     },
     "execution_count": 24,
     "metadata": {},
     "output_type": "execute_result"
    },
    {
     "data": {
      "image/png": "[encoded data removed]",
      "text/plain": [
       "<Figure size 640x480 with 1 Axes>"
      ]
     },
     "metadata": {},
     "output_type": "display_data"
    }
   ],
   "source": [
    "df[\"Selling_Price\"].plot(kind=\"hist\")\n",
    "#Histogram for a single column"
   ]
  },
  {
   "cell_type": "code",
   "execution_count": 25,
   "id": "fb7546c1",
   "metadata": {
    "execution": {
     "iopub.execute_input": "2025-08-19T11:30:27.363030Z",
     "iopub.status.busy": "2025-08-19T11:30:27.361732Z",
     "iopub.status.idle": "2025-08-19T11:30:27.533240Z",
     "shell.execute_reply": "2025-08-19T11:30:27.532096Z"
    },
    "papermill": {
     "duration": 0.187551,
     "end_time": "2025-08-19T11:30:27.534848",
     "exception": false,
     "start_time": "2025-08-19T11:30:27.347297",
     "status": "completed"
    },
    "tags": []
   },
   "outputs": [
    {
     "data": {
      "text/plain": [
       "<Axes: ylabel='Frequency'>"
      ]
     },
     "execution_count": 25,
     "metadata": {},
     "output_type": "execute_result"
    },
    {
     "data": {
      "image/png": "[encoded data removed]",
      "text/plain": [
       "<Figure size 640x480 with 1 Axes>"
      ]
     },
     "metadata": {},
     "output_type": "display_data"
    }
   ],
   "source": [
    "df[\"Present_Price\"].plot(kind=\"hist\")\n",
    "#Histogram for a single column"
   ]
  },
  {
   "cell_type": "code",
   "execution_count": 26,
   "id": "c87d0895",
   "metadata": {
    "execution": {
     "iopub.execute_input": "2025-08-19T11:30:27.564106Z",
     "iopub.status.busy": "2025-08-19T11:30:27.563721Z",
     "iopub.status.idle": "2025-08-19T11:30:27.743918Z",
     "shell.execute_reply": "2025-08-19T11:30:27.743019Z"
    },
    "papermill": {
     "duration": 0.196568,
     "end_time": "2025-08-19T11:30:27.745657",
     "exception": false,
     "start_time": "2025-08-19T11:30:27.549089",
     "status": "completed"
    },
    "tags": []
   },
   "outputs": [
    {
     "data": {
      "text/plain": [
       "<Axes: ylabel='Frequency'>"
      ]
     },
     "execution_count": 26,
     "metadata": {},
     "output_type": "execute_result"
    },
    {
     "data": {
      "image/png": "[encoded data removed]",
      "text/plain": [
       "<Figure size 640x480 with 1 Axes>"
      ]
     },
     "metadata": {},
     "output_type": "display_data"
    }
   ],
   "source": [
    "df[\"Driven_kms\"].plot(kind=\"hist\")\n",
    "#Histogram for a single column"
   ]
  },
  {
   "cell_type": "code",
   "execution_count": 27,
   "id": "c62b6e40",
   "metadata": {
    "execution": {
     "iopub.execute_input": "2025-08-19T11:30:27.777069Z",
     "iopub.status.busy": "2025-08-19T11:30:27.776653Z",
     "iopub.status.idle": "2025-08-19T11:30:27.911886Z",
     "shell.execute_reply": "2025-08-19T11:30:27.910871Z"
    },
    "papermill": {
     "duration": 0.15353,
     "end_time": "2025-08-19T11:30:27.913547",
     "exception": false,
     "start_time": "2025-08-19T11:30:27.760017",
     "status": "completed"
    },
    "tags": []
   },
   "outputs": [
    {
     "data": {
      "text/plain": [
       "<Axes: >"
      ]
     },
     "execution_count": 27,
     "metadata": {},
     "output_type": "execute_result"
    },
    {
     "data": {
      "image/png": "[encoded data removed]",
      "text/plain": [
       "<Figure size 640x480 with 1 Axes>"
      ]
     },
     "metadata": {},
     "output_type": "display_data"
    }
   ],
   "source": [
    "df[\"Selling_Price\"].plot(kind=\"box\")\n",
    "#Box plot for a single column"
   ]
  },
  {
   "cell_type": "code",
   "execution_count": 28,
   "id": "99c942b9",
   "metadata": {
    "execution": {
     "iopub.execute_input": "2025-08-19T11:30:27.944045Z",
     "iopub.status.busy": "2025-08-19T11:30:27.943676Z",
     "iopub.status.idle": "2025-08-19T11:30:28.066512Z",
     "shell.execute_reply": "2025-08-19T11:30:28.065423Z"
    },
    "papermill": {
     "duration": 0.139564,
     "end_time": "2025-08-19T11:30:28.068229",
     "exception": false,
     "start_time": "2025-08-19T11:30:27.928665",
     "status": "completed"
    },
    "tags": []
   },
   "outputs": [
    {
     "data": {
      "text/plain": [
       "<Axes: >"
      ]
     },
     "execution_count": 28,
     "metadata": {},
     "output_type": "execute_result"
    },
    {
     "data": {
      "image/png": "[encoded data removed]",
      "text/plain": [
       "<Figure size 640x480 with 1 Axes>"
      ]
     },
     "metadata": {},
     "output_type": "display_data"
    }
   ],
   "source": [
    "df[\"Present_Price\"].plot(kind=\"box\")\n",
    "#Box plot for a single column"
   ]
  },
  {
   "cell_type": "code",
   "execution_count": 29,
   "id": "37437a6d",
   "metadata": {
    "execution": {
     "iopub.execute_input": "2025-08-19T11:30:28.098690Z",
     "iopub.status.busy": "2025-08-19T11:30:28.098356Z",
     "iopub.status.idle": "2025-08-19T11:30:28.304378Z",
     "shell.execute_reply": "2025-08-19T11:30:28.302563Z"
    },
    "papermill": {
     "duration": 0.223806,
     "end_time": "2025-08-19T11:30:28.306665",
     "exception": false,
     "start_time": "2025-08-19T11:30:28.082859",
     "status": "completed"
    },
    "tags": []
   },
   "outputs": [
    {
     "data": {
      "text/plain": [
       "<Axes: xlabel='Present_Price', ylabel='Selling_Price'>"
      ]
     },
     "execution_count": 29,
     "metadata": {},
     "output_type": "execute_result"
    },
    {
     "data": {
      "image/png": "[encoded data removed]",
      "text/plain": [
       "<Figure size 640x480 with 1 Axes>"
      ]
     },
     "metadata": {},
     "output_type": "display_data"
    }
   ],
   "source": [
    "df.plot(kind=\"scatter\", x=\"Present_Price\", y=\"Selling_Price\")\n",
    "#Scatter plot"
   ]
  },
  {
   "cell_type": "markdown",
   "id": "cbc2565b",
   "metadata": {
    "papermill": {
     "duration": 0.016514,
     "end_time": "2025-08-19T11:30:28.340702",
     "exception": false,
     "start_time": "2025-08-19T11:30:28.324188",
     "status": "completed"
    },
    "tags": []
   },
   "source": [
    "# 4. Data Preprocessing"
   ]
  },
  {
   "cell_type": "code",
   "execution_count": 30,
   "id": "c616fbb2",
   "metadata": {
    "execution": {
     "iopub.execute_input": "2025-08-19T11:30:28.376136Z",
     "iopub.status.busy": "2025-08-19T11:30:28.375778Z",
     "iopub.status.idle": "2025-08-19T11:30:28.382682Z",
     "shell.execute_reply": "2025-08-19T11:30:28.381681Z"
    },
    "papermill": {
     "duration": 0.02708,
     "end_time": "2025-08-19T11:30:28.384328",
     "exception": false,
     "start_time": "2025-08-19T11:30:28.357248",
     "status": "completed"
    },
    "tags": []
   },
   "outputs": [
    {
     "data": {
      "text/plain": [
       "Index(['Car_Name', 'Year', 'Selling_Price', 'Present_Price', 'Driven_kms',\n",
       "       'Fuel_Type', 'Selling_type', 'Transmission', 'Owner'],\n",
       "      dtype='object')"
      ]
     },
     "execution_count": 30,
     "metadata": {},
     "output_type": "execute_result"
    }
   ],
   "source": [
    "df.columns"
   ]
  },
  {
   "cell_type": "code",
   "execution_count": 31,
   "id": "4e7347c8",
   "metadata": {
    "execution": {
     "iopub.execute_input": "2025-08-19T11:30:28.416635Z",
     "iopub.status.busy": "2025-08-19T11:30:28.416308Z",
     "iopub.status.idle": "2025-08-19T11:30:28.429273Z",
     "shell.execute_reply": "2025-08-19T11:30:28.428200Z"
    },
    "papermill": {
     "duration": 0.030992,
     "end_time": "2025-08-19T11:30:28.430780",
     "exception": false,
     "start_time": "2025-08-19T11:30:28.399788",
     "status": "completed"
    },
    "tags": []
   },
   "outputs": [
    {
     "data": {
      "text/html": [
       "<div>\n",
       "<style scoped>\n",
       "    .dataframe tbody tr th:only-of-type {\n",
       "        vertical-align: middle;\n",
       "    }\n",
       "\n",
       "    .dataframe tbody tr th {\n",
       "        vertical-align: top;\n",
       "    }\n",
       "\n",
       "    .dataframe thead th {\n",
       "        text-align: right;\n",
       "    }\n",
       "</style>\n",
       "<table border=\"1\" class=\"dataframe\">\n",
       "  <thead>\n",
       "    <tr style=\"text-align: right;\">\n",
       "      <th></th>\n",
       "      <th>Car_Name</th>\n",
       "      <th>Year</th>\n",
       "      <th>Selling_Price</th>\n",
       "      <th>Present_Price</th>\n",
       "      <th>Driven_kms</th>\n",
       "      <th>Fuel_Type</th>\n",
       "      <th>Selling_type</th>\n",
       "      <th>Transmission</th>\n",
       "      <th>Owner</th>\n",
       "    </tr>\n",
       "  </thead>\n",
       "  <tbody>\n",
       "    <tr>\n",
       "      <th>0</th>\n",
       "      <td>ritz</td>\n",
       "      <td>2014</td>\n",
       "      <td>3.35</td>\n",
       "      <td>5.59</td>\n",
       "      <td>27000</td>\n",
       "      <td>Petrol</td>\n",
       "      <td>Dealer</td>\n",
       "      <td>Manual</td>\n",
       "      <td>0</td>\n",
       "    </tr>\n",
       "    <tr>\n",
       "      <th>1</th>\n",
       "      <td>sx4</td>\n",
       "      <td>2013</td>\n",
       "      <td>4.75</td>\n",
       "      <td>9.54</td>\n",
       "      <td>43000</td>\n",
       "      <td>Diesel</td>\n",
       "      <td>Dealer</td>\n",
       "      <td>Manual</td>\n",
       "      <td>0</td>\n",
       "    </tr>\n",
       "    <tr>\n",
       "      <th>2</th>\n",
       "      <td>ciaz</td>\n",
       "      <td>2017</td>\n",
       "      <td>7.25</td>\n",
       "      <td>9.85</td>\n",
       "      <td>6900</td>\n",
       "      <td>Petrol</td>\n",
       "      <td>Dealer</td>\n",
       "      <td>Manual</td>\n",
       "      <td>0</td>\n",
       "    </tr>\n",
       "    <tr>\n",
       "      <th>3</th>\n",
       "      <td>wagon r</td>\n",
       "      <td>2011</td>\n",
       "      <td>2.85</td>\n",
       "      <td>4.15</td>\n",
       "      <td>5200</td>\n",
       "      <td>Petrol</td>\n",
       "      <td>Dealer</td>\n",
       "      <td>Manual</td>\n",
       "      <td>0</td>\n",
       "    </tr>\n",
       "    <tr>\n",
       "      <th>4</th>\n",
       "      <td>swift</td>\n",
       "      <td>2014</td>\n",
       "      <td>4.60</td>\n",
       "      <td>6.87</td>\n",
       "      <td>42450</td>\n",
       "      <td>Diesel</td>\n",
       "      <td>Dealer</td>\n",
       "      <td>Manual</td>\n",
       "      <td>0</td>\n",
       "    </tr>\n",
       "  </tbody>\n",
       "</table>\n",
       "</div>"
      ],
      "text/plain": [
       "  Car_Name  Year  Selling_Price  Present_Price  Driven_kms Fuel_Type  \\\n",
       "0     ritz  2014           3.35           5.59       27000    Petrol   \n",
       "1      sx4  2013           4.75           9.54       43000    Diesel   \n",
       "2     ciaz  2017           7.25           9.85        6900    Petrol   \n",
       "3  wagon r  2011           2.85           4.15        5200    Petrol   \n",
       "4    swift  2014           4.60           6.87       42450    Diesel   \n",
       "\n",
       "  Selling_type Transmission  Owner  \n",
       "0       Dealer       Manual      0  \n",
       "1       Dealer       Manual      0  \n",
       "2       Dealer       Manual      0  \n",
       "3       Dealer       Manual      0  \n",
       "4       Dealer       Manual      0  "
      ]
     },
     "execution_count": 31,
     "metadata": {},
     "output_type": "execute_result"
    }
   ],
   "source": [
    "df.head()"
   ]
  },
  {
   "cell_type": "markdown",
   "id": "5dce67c9",
   "metadata": {
    "papermill": {
     "duration": 0.01524,
     "end_time": "2025-08-19T11:30:28.461771",
     "exception": false,
     "start_time": "2025-08-19T11:30:28.446531",
     "status": "completed"
    },
    "tags": []
   },
   "source": [
    "# Normalize and Scale the Data"
   ]
  },
  {
   "cell_type": "code",
   "execution_count": 32,
   "id": "0c95599a",
   "metadata": {
    "execution": {
     "iopub.execute_input": "2025-08-19T11:30:28.494526Z",
     "iopub.status.busy": "2025-08-19T11:30:28.494198Z",
     "iopub.status.idle": "2025-08-19T11:30:28.722433Z",
     "shell.execute_reply": "2025-08-19T11:30:28.721403Z"
    },
    "papermill": {
     "duration": 0.247141,
     "end_time": "2025-08-19T11:30:28.724364",
     "exception": false,
     "start_time": "2025-08-19T11:30:28.477223",
     "status": "completed"
    },
    "tags": []
   },
   "outputs": [
    {
     "data": {
      "text/html": [
       "<div>\n",
       "<style scoped>\n",
       "    .dataframe tbody tr th:only-of-type {\n",
       "        vertical-align: middle;\n",
       "    }\n",
       "\n",
       "    .dataframe tbody tr th {\n",
       "        vertical-align: top;\n",
       "    }\n",
       "\n",
       "    .dataframe thead th {\n",
       "        text-align: right;\n",
       "    }\n",
       "</style>\n",
       "<table border=\"1\" class=\"dataframe\">\n",
       "  <thead>\n",
       "    <tr style=\"text-align: right;\">\n",
       "      <th></th>\n",
       "      <th>Selling_Price</th>\n",
       "      <th>Present_Price</th>\n",
       "      <th>Driven_kms</th>\n",
       "    </tr>\n",
       "  </thead>\n",
       "  <tbody>\n",
       "    <tr>\n",
       "      <th>0</th>\n",
       "      <td>-0.258416</td>\n",
       "      <td>-0.236256</td>\n",
       "      <td>-0.256224</td>\n",
       "    </tr>\n",
       "    <tr>\n",
       "      <th>1</th>\n",
       "      <td>0.017481</td>\n",
       "      <td>0.221544</td>\n",
       "      <td>0.155911</td>\n",
       "    </tr>\n",
       "    <tr>\n",
       "      <th>2</th>\n",
       "      <td>0.510154</td>\n",
       "      <td>0.257472</td>\n",
       "      <td>-0.773969</td>\n",
       "    </tr>\n",
       "    <tr>\n",
       "      <th>3</th>\n",
       "      <td>-0.356950</td>\n",
       "      <td>-0.403151</td>\n",
       "      <td>-0.817758</td>\n",
       "    </tr>\n",
       "    <tr>\n",
       "      <th>4</th>\n",
       "      <td>-0.012079</td>\n",
       "      <td>-0.087906</td>\n",
       "      <td>0.141743</td>\n",
       "    </tr>\n",
       "  </tbody>\n",
       "</table>\n",
       "</div>"
      ],
      "text/plain": [
       "   Selling_Price  Present_Price  Driven_kms\n",
       "0      -0.258416      -0.236256   -0.256224\n",
       "1       0.017481       0.221544    0.155911\n",
       "2       0.510154       0.257472   -0.773969\n",
       "3      -0.356950      -0.403151   -0.817758\n",
       "4      -0.012079      -0.087906    0.141743"
      ]
     },
     "execution_count": 32,
     "metadata": {},
     "output_type": "execute_result"
    }
   ],
   "source": [
    "# This scales the values to have mean = 0 and standard deviation = 1 to better distribution\n",
    "from sklearn.preprocessing import StandardScaler\n",
    "\n",
    "# Initialize the scaler\n",
    "scaler = StandardScaler()\n",
    "\n",
    "# Apply Min_Max Scaling to Age and salary\n",
    "df[['Selling_Price','Present_Price','Driven_kms']] = scaler.fit_transform(df[['Selling_Price','Present_Price','Driven_kms']])\n",
    "\n",
    "# Show scaled data\n",
    "df[['Selling_Price','Present_Price','Driven_kms']].head()"
   ]
  },
  {
   "cell_type": "markdown",
   "id": "2ab5852d",
   "metadata": {
    "papermill": {
     "duration": 0.016155,
     "end_time": "2025-08-19T11:30:28.756605",
     "exception": false,
     "start_time": "2025-08-19T11:30:28.740450",
     "status": "completed"
    },
    "tags": []
   },
   "source": [
    "# Scaling"
   ]
  },
  {
   "cell_type": "code",
   "execution_count": 33,
   "id": "d888798d",
   "metadata": {
    "execution": {
     "iopub.execute_input": "2025-08-19T11:30:28.790864Z",
     "iopub.status.busy": "2025-08-19T11:30:28.790537Z",
     "iopub.status.idle": "2025-08-19T11:30:28.807375Z",
     "shell.execute_reply": "2025-08-19T11:30:28.806393Z"
    },
    "papermill": {
     "duration": 0.036241,
     "end_time": "2025-08-19T11:30:28.808897",
     "exception": false,
     "start_time": "2025-08-19T11:30:28.772656",
     "status": "completed"
    },
    "tags": []
   },
   "outputs": [
    {
     "data": {
      "text/html": [
       "<div>\n",
       "<style scoped>\n",
       "    .dataframe tbody tr th:only-of-type {\n",
       "        vertical-align: middle;\n",
       "    }\n",
       "\n",
       "    .dataframe tbody tr th {\n",
       "        vertical-align: top;\n",
       "    }\n",
       "\n",
       "    .dataframe thead th {\n",
       "        text-align: right;\n",
       "    }\n",
       "</style>\n",
       "<table border=\"1\" class=\"dataframe\">\n",
       "  <thead>\n",
       "    <tr style=\"text-align: right;\">\n",
       "      <th></th>\n",
       "      <th>Selling_Price</th>\n",
       "      <th>Present_Price</th>\n",
       "      <th>Driven_kms</th>\n",
       "    </tr>\n",
       "  </thead>\n",
       "  <tbody>\n",
       "    <tr>\n",
       "      <th>0</th>\n",
       "      <td>-0.258416</td>\n",
       "      <td>-0.236256</td>\n",
       "      <td>-0.256224</td>\n",
       "    </tr>\n",
       "    <tr>\n",
       "      <th>1</th>\n",
       "      <td>0.017481</td>\n",
       "      <td>0.221544</td>\n",
       "      <td>0.155911</td>\n",
       "    </tr>\n",
       "    <tr>\n",
       "      <th>2</th>\n",
       "      <td>0.510154</td>\n",
       "      <td>0.257472</td>\n",
       "      <td>-0.773969</td>\n",
       "    </tr>\n",
       "    <tr>\n",
       "      <th>3</th>\n",
       "      <td>-0.356950</td>\n",
       "      <td>-0.403151</td>\n",
       "      <td>-0.817758</td>\n",
       "    </tr>\n",
       "    <tr>\n",
       "      <th>4</th>\n",
       "      <td>-0.012079</td>\n",
       "      <td>-0.087906</td>\n",
       "      <td>0.141743</td>\n",
       "    </tr>\n",
       "  </tbody>\n",
       "</table>\n",
       "</div>"
      ],
      "text/plain": [
       "   Selling_Price  Present_Price  Driven_kms\n",
       "0      -0.258416      -0.236256   -0.256224\n",
       "1       0.017481       0.221544    0.155911\n",
       "2       0.510154       0.257472   -0.773969\n",
       "3      -0.356950      -0.403151   -0.817758\n",
       "4      -0.012079      -0.087906    0.141743"
      ]
     },
     "execution_count": 33,
     "metadata": {},
     "output_type": "execute_result"
    }
   ],
   "source": [
    "# This scales the values to have mean = 0 and standard deviation = 1 to better distribution\n",
    "from sklearn.preprocessing import StandardScaler\n",
    "\n",
    "# Initialize the scaler\n",
    "scaler = StandardScaler()\n",
    "\n",
    "# Apply Min_Max Scaling to Age and salary\n",
    "df[['Selling_Price','Present_Price','Driven_kms']] = scaler.fit_transform(df[['Selling_Price','Present_Price','Driven_kms']])\n",
    "\n",
    "# Show scaled data\n",
    "df[['Selling_Price','Present_Price','Driven_kms']].head()"
   ]
  },
  {
   "cell_type": "markdown",
   "id": "9e8a70b2",
   "metadata": {
    "papermill": {
     "duration": 0.016738,
     "end_time": "2025-08-19T11:30:28.841502",
     "exception": false,
     "start_time": "2025-08-19T11:30:28.824764",
     "status": "completed"
    },
    "tags": []
   },
   "source": [
    "# 5. Feature Engineering"
   ]
  },
  {
   "cell_type": "markdown",
   "id": "847953ae",
   "metadata": {
    "papermill": {
     "duration": 0.015853,
     "end_time": "2025-08-19T11:30:28.874096",
     "exception": false,
     "start_time": "2025-08-19T11:30:28.858243",
     "status": "completed"
    },
    "tags": []
   },
   "source": [
    "# Convert \"Year\" to \"Car_Age\""
   ]
  },
  {
   "cell_type": "code",
   "execution_count": 34,
   "id": "6b19d6e7",
   "metadata": {
    "execution": {
     "iopub.execute_input": "2025-08-19T11:30:28.908049Z",
     "iopub.status.busy": "2025-08-19T11:30:28.907672Z",
     "iopub.status.idle": "2025-08-19T11:30:28.914913Z",
     "shell.execute_reply": "2025-08-19T11:30:28.914059Z"
    },
    "papermill": {
     "duration": 0.026125,
     "end_time": "2025-08-19T11:30:28.916794",
     "exception": false,
     "start_time": "2025-08-19T11:30:28.890669",
     "status": "completed"
    },
    "tags": []
   },
   "outputs": [],
   "source": [
    "df['Car_Age'] = 2025 - df[\"Year\"]\n",
    "df.drop('Year', axis=1, inplace=True)"
   ]
  },
  {
   "cell_type": "markdown",
   "id": "67e6cadb",
   "metadata": {
    "papermill": {
     "duration": 0.01614,
     "end_time": "2025-08-19T11:30:28.949364",
     "exception": false,
     "start_time": "2025-08-19T11:30:28.933224",
     "status": "completed"
    },
    "tags": []
   },
   "source": [
    "# Drop \"Car_Name\" or Use it Smartly"
   ]
  },
  {
   "cell_type": "code",
   "execution_count": 35,
   "id": "7d94c8bc",
   "metadata": {
    "execution": {
     "iopub.execute_input": "2025-08-19T11:30:28.983956Z",
     "iopub.status.busy": "2025-08-19T11:30:28.983631Z",
     "iopub.status.idle": "2025-08-19T11:30:28.990872Z",
     "shell.execute_reply": "2025-08-19T11:30:28.990039Z"
    },
    "papermill": {
     "duration": 0.027053,
     "end_time": "2025-08-19T11:30:28.992460",
     "exception": false,
     "start_time": "2025-08-19T11:30:28.965407",
     "status": "completed"
    },
    "tags": []
   },
   "outputs": [],
   "source": [
    "df['Brand'] = df['Car_Name'].apply(lambda x: x.split()[0])  # Only brand name\n",
    "df.drop('Car_Name', axis=1, inplace=True)\n"
   ]
  },
  {
   "cell_type": "markdown",
   "id": "5b52add9",
   "metadata": {
    "papermill": {
     "duration": 0.015643,
     "end_time": "2025-08-19T11:30:29.024029",
     "exception": false,
     "start_time": "2025-08-19T11:30:29.008386",
     "status": "completed"
    },
    "tags": []
   },
   "source": [
    "# Handle Categorical Variables"
   ]
  },
  {
   "cell_type": "markdown",
   "id": "95b61688",
   "metadata": {
    "papermill": {
     "duration": 0.015485,
     "end_time": "2025-08-19T11:30:29.055039",
     "exception": false,
     "start_time": "2025-08-19T11:30:29.039554",
     "status": "completed"
    },
    "tags": []
   },
   "source": []
  },
  {
   "cell_type": "code",
   "execution_count": 36,
   "id": "90ef14c2",
   "metadata": {
    "execution": {
     "iopub.execute_input": "2025-08-19T11:30:29.088398Z",
     "iopub.status.busy": "2025-08-19T11:30:29.087922Z",
     "iopub.status.idle": "2025-08-19T11:30:29.099469Z",
     "shell.execute_reply": "2025-08-19T11:30:29.098488Z"
    },
    "papermill": {
     "duration": 0.030107,
     "end_time": "2025-08-19T11:30:29.101252",
     "exception": false,
     "start_time": "2025-08-19T11:30:29.071145",
     "status": "completed"
    },
    "tags": []
   },
   "outputs": [],
   "source": [
    "df = pd.get_dummies(df, columns=['Fuel_Type', 'Selling_type', 'Transmission'], drop_first=True)"
   ]
  },
  {
   "cell_type": "markdown",
   "id": "483f8a30",
   "metadata": {
    "papermill": {
     "duration": 0.015892,
     "end_time": "2025-08-19T11:30:29.133502",
     "exception": false,
     "start_time": "2025-08-19T11:30:29.117610",
     "status": "completed"
    },
    "tags": []
   },
   "source": [
    "# Outlier Handling"
   ]
  },
  {
   "cell_type": "code",
   "execution_count": 37,
   "id": "c6e9a8d4",
   "metadata": {
    "execution": {
     "iopub.execute_input": "2025-08-19T11:30:29.167153Z",
     "iopub.status.busy": "2025-08-19T11:30:29.166692Z",
     "iopub.status.idle": "2025-08-19T11:30:29.179389Z",
     "shell.execute_reply": "2025-08-19T11:30:29.178300Z"
    },
    "papermill": {
     "duration": 0.032079,
     "end_time": "2025-08-19T11:30:29.181385",
     "exception": false,
     "start_time": "2025-08-19T11:30:29.149306",
     "status": "completed"
    },
    "tags": []
   },
   "outputs": [],
   "source": [
    "Q1 = df['Driven_kms'].quantile(0.25)\n",
    "Q3 = df['Driven_kms'].quantile(0.75)\n",
    "IQR = Q3 - Q1\n",
    "df = df[~((df['Driven_kms'] < (Q1 - 1.5 * IQR)) | (df['Driven_kms'] > (Q3 + 1.5 * IQR)))]\n"
   ]
  },
  {
   "cell_type": "code",
   "execution_count": 38,
   "id": "e913de8d",
   "metadata": {
    "execution": {
     "iopub.execute_input": "2025-08-19T11:30:29.215869Z",
     "iopub.status.busy": "2025-08-19T11:30:29.215547Z",
     "iopub.status.idle": "2025-08-19T11:30:29.224462Z",
     "shell.execute_reply": "2025-08-19T11:30:29.223517Z"
    },
    "papermill": {
     "duration": 0.02776,
     "end_time": "2025-08-19T11:30:29.226063",
     "exception": false,
     "start_time": "2025-08-19T11:30:29.198303",
     "status": "completed"
    },
    "tags": []
   },
   "outputs": [],
   "source": [
    "df = pd.get_dummies(df, columns=['Brand'], drop_first=True)"
   ]
  },
  {
   "cell_type": "code",
   "execution_count": 39,
   "id": "d98436c7",
   "metadata": {
    "execution": {
     "iopub.execute_input": "2025-08-19T11:30:29.258883Z",
     "iopub.status.busy": "2025-08-19T11:30:29.258565Z",
     "iopub.status.idle": "2025-08-19T11:30:29.280427Z",
     "shell.execute_reply": "2025-08-19T11:30:29.279369Z"
    },
    "papermill": {
     "duration": 0.040399,
     "end_time": "2025-08-19T11:30:29.282229",
     "exception": false,
     "start_time": "2025-08-19T11:30:29.241830",
     "status": "completed"
    },
    "tags": []
   },
   "outputs": [
    {
     "data": {
      "text/html": [
       "<div>\n",
       "<style scoped>\n",
       "    .dataframe tbody tr th:only-of-type {\n",
       "        vertical-align: middle;\n",
       "    }\n",
       "\n",
       "    .dataframe tbody tr th {\n",
       "        vertical-align: top;\n",
       "    }\n",
       "\n",
       "    .dataframe thead th {\n",
       "        text-align: right;\n",
       "    }\n",
       "</style>\n",
       "<table border=\"1\" class=\"dataframe\">\n",
       "  <thead>\n",
       "    <tr style=\"text-align: right;\">\n",
       "      <th></th>\n",
       "      <th>Selling_Price</th>\n",
       "      <th>Present_Price</th>\n",
       "      <th>Driven_kms</th>\n",
       "      <th>Owner</th>\n",
       "      <th>Car_Age</th>\n",
       "      <th>Fuel_Type_Diesel</th>\n",
       "      <th>Fuel_Type_Petrol</th>\n",
       "      <th>Selling_type_Individual</th>\n",
       "      <th>Transmission_Manual</th>\n",
       "      <th>Brand_Bajaj</th>\n",
       "      <th>...</th>\n",
       "      <th>Brand_land</th>\n",
       "      <th>Brand_omni</th>\n",
       "      <th>Brand_ritz</th>\n",
       "      <th>Brand_s</th>\n",
       "      <th>Brand_swift</th>\n",
       "      <th>Brand_sx4</th>\n",
       "      <th>Brand_verna</th>\n",
       "      <th>Brand_vitara</th>\n",
       "      <th>Brand_wagon</th>\n",
       "      <th>Brand_xcent</th>\n",
       "    </tr>\n",
       "  </thead>\n",
       "  <tbody>\n",
       "    <tr>\n",
       "      <th>0</th>\n",
       "      <td>-0.258416</td>\n",
       "      <td>-0.236256</td>\n",
       "      <td>-0.256224</td>\n",
       "      <td>0</td>\n",
       "      <td>11</td>\n",
       "      <td>False</td>\n",
       "      <td>True</td>\n",
       "      <td>False</td>\n",
       "      <td>True</td>\n",
       "      <td>False</td>\n",
       "      <td>...</td>\n",
       "      <td>False</td>\n",
       "      <td>False</td>\n",
       "      <td>True</td>\n",
       "      <td>False</td>\n",
       "      <td>False</td>\n",
       "      <td>False</td>\n",
       "      <td>False</td>\n",
       "      <td>False</td>\n",
       "      <td>False</td>\n",
       "      <td>False</td>\n",
       "    </tr>\n",
       "    <tr>\n",
       "      <th>1</th>\n",
       "      <td>0.017481</td>\n",
       "      <td>0.221544</td>\n",
       "      <td>0.155911</td>\n",
       "      <td>0</td>\n",
       "      <td>12</td>\n",
       "      <td>True</td>\n",
       "      <td>False</td>\n",
       "      <td>False</td>\n",
       "      <td>True</td>\n",
       "      <td>False</td>\n",
       "      <td>...</td>\n",
       "      <td>False</td>\n",
       "      <td>False</td>\n",
       "      <td>False</td>\n",
       "      <td>False</td>\n",
       "      <td>False</td>\n",
       "      <td>True</td>\n",
       "      <td>False</td>\n",
       "      <td>False</td>\n",
       "      <td>False</td>\n",
       "      <td>False</td>\n",
       "    </tr>\n",
       "    <tr>\n",
       "      <th>2</th>\n",
       "      <td>0.510154</td>\n",
       "      <td>0.257472</td>\n",
       "      <td>-0.773969</td>\n",
       "      <td>0</td>\n",
       "      <td>8</td>\n",
       "      <td>False</td>\n",
       "      <td>True</td>\n",
       "      <td>False</td>\n",
       "      <td>True</td>\n",
       "      <td>False</td>\n",
       "      <td>...</td>\n",
       "      <td>False</td>\n",
       "      <td>False</td>\n",
       "      <td>False</td>\n",
       "      <td>False</td>\n",
       "      <td>False</td>\n",
       "      <td>False</td>\n",
       "      <td>False</td>\n",
       "      <td>False</td>\n",
       "      <td>False</td>\n",
       "      <td>False</td>\n",
       "    </tr>\n",
       "    <tr>\n",
       "      <th>3</th>\n",
       "      <td>-0.356950</td>\n",
       "      <td>-0.403151</td>\n",
       "      <td>-0.817758</td>\n",
       "      <td>0</td>\n",
       "      <td>14</td>\n",
       "      <td>False</td>\n",
       "      <td>True</td>\n",
       "      <td>False</td>\n",
       "      <td>True</td>\n",
       "      <td>False</td>\n",
       "      <td>...</td>\n",
       "      <td>False</td>\n",
       "      <td>False</td>\n",
       "      <td>False</td>\n",
       "      <td>False</td>\n",
       "      <td>False</td>\n",
       "      <td>False</td>\n",
       "      <td>False</td>\n",
       "      <td>False</td>\n",
       "      <td>True</td>\n",
       "      <td>False</td>\n",
       "    </tr>\n",
       "    <tr>\n",
       "      <th>4</th>\n",
       "      <td>-0.012079</td>\n",
       "      <td>-0.087906</td>\n",
       "      <td>0.141743</td>\n",
       "      <td>0</td>\n",
       "      <td>11</td>\n",
       "      <td>True</td>\n",
       "      <td>False</td>\n",
       "      <td>False</td>\n",
       "      <td>True</td>\n",
       "      <td>False</td>\n",
       "      <td>...</td>\n",
       "      <td>False</td>\n",
       "      <td>False</td>\n",
       "      <td>False</td>\n",
       "      <td>False</td>\n",
       "      <td>True</td>\n",
       "      <td>False</td>\n",
       "      <td>False</td>\n",
       "      <td>False</td>\n",
       "      <td>False</td>\n",
       "      <td>False</td>\n",
       "    </tr>\n",
       "  </tbody>\n",
       "</table>\n",
       "<p>5 rows × 50 columns</p>\n",
       "</div>"
      ],
      "text/plain": [
       "   Selling_Price  Present_Price  Driven_kms  Owner  Car_Age  Fuel_Type_Diesel  \\\n",
       "0      -0.258416      -0.236256   -0.256224      0       11             False   \n",
       "1       0.017481       0.221544    0.155911      0       12              True   \n",
       "2       0.510154       0.257472   -0.773969      0        8             False   \n",
       "3      -0.356950      -0.403151   -0.817758      0       14             False   \n",
       "4      -0.012079      -0.087906    0.141743      0       11              True   \n",
       "\n",
       "   Fuel_Type_Petrol  Selling_type_Individual  Transmission_Manual  \\\n",
       "0              True                    False                 True   \n",
       "1             False                    False                 True   \n",
       "2              True                    False                 True   \n",
       "3              True                    False                 True   \n",
       "4             False                    False                 True   \n",
       "\n",
       "   Brand_Bajaj  ...  Brand_land  Brand_omni  Brand_ritz  Brand_s  Brand_swift  \\\n",
       "0        False  ...       False       False        True    False        False   \n",
       "1        False  ...       False       False       False    False        False   \n",
       "2        False  ...       False       False       False    False        False   \n",
       "3        False  ...       False       False       False    False        False   \n",
       "4        False  ...       False       False       False    False         True   \n",
       "\n",
       "   Brand_sx4  Brand_verna  Brand_vitara  Brand_wagon  Brand_xcent  \n",
       "0      False        False         False        False        False  \n",
       "1       True        False         False        False        False  \n",
       "2      False        False         False        False        False  \n",
       "3      False        False         False         True        False  \n",
       "4      False        False         False        False        False  \n",
       "\n",
       "[5 rows x 50 columns]"
      ]
     },
     "execution_count": 39,
     "metadata": {},
     "output_type": "execute_result"
    }
   ],
   "source": [
    "df.head()"
   ]
  },
  {
   "cell_type": "code",
   "execution_count": 40,
   "id": "59004220",
   "metadata": {
    "execution": {
     "iopub.execute_input": "2025-08-19T11:30:29.317779Z",
     "iopub.status.busy": "2025-08-19T11:30:29.317440Z",
     "iopub.status.idle": "2025-08-19T11:30:29.325252Z",
     "shell.execute_reply": "2025-08-19T11:30:29.323853Z"
    },
    "papermill": {
     "duration": 0.027775,
     "end_time": "2025-08-19T11:30:29.327121",
     "exception": false,
     "start_time": "2025-08-19T11:30:29.299346",
     "status": "completed"
    },
    "tags": []
   },
   "outputs": [
    {
     "data": {
      "text/plain": [
       "Index(['Selling_Price', 'Present_Price', 'Driven_kms', 'Owner', 'Car_Age',\n",
       "       'Fuel_Type_Diesel', 'Fuel_Type_Petrol', 'Selling_type_Individual',\n",
       "       'Transmission_Manual', 'Brand_Bajaj', 'Brand_Hero', 'Brand_Honda',\n",
       "       'Brand_Hyosung', 'Brand_KTM', 'Brand_Mahindra', 'Brand_Royal',\n",
       "       'Brand_Suzuki', 'Brand_TVS', 'Brand_UM', 'Brand_Yamaha', 'Brand_alto',\n",
       "       'Brand_amaze', 'Brand_baleno', 'Brand_brio', 'Brand_ciaz', 'Brand_city',\n",
       "       'Brand_corolla', 'Brand_creta', 'Brand_dzire', 'Brand_elantra',\n",
       "       'Brand_eon', 'Brand_ertiga', 'Brand_etios', 'Brand_fortuner',\n",
       "       'Brand_grand', 'Brand_i10', 'Brand_i20', 'Brand_ignis', 'Brand_innova',\n",
       "       'Brand_jazz', 'Brand_land', 'Brand_omni', 'Brand_ritz', 'Brand_s',\n",
       "       'Brand_swift', 'Brand_sx4', 'Brand_verna', 'Brand_vitara',\n",
       "       'Brand_wagon', 'Brand_xcent'],\n",
       "      dtype='object')"
      ]
     },
     "execution_count": 40,
     "metadata": {},
     "output_type": "execute_result"
    }
   ],
   "source": [
    "df.columns"
   ]
  },
  {
   "cell_type": "markdown",
   "id": "6e3da012",
   "metadata": {
    "papermill": {
     "duration": 0.017478,
     "end_time": "2025-08-19T11:30:29.363212",
     "exception": false,
     "start_time": "2025-08-19T11:30:29.345734",
     "status": "completed"
    },
    "tags": []
   },
   "source": [
    "# 6. Model Training"
   ]
  },
  {
   "cell_type": "code",
   "execution_count": 41,
   "id": "1667a747",
   "metadata": {
    "execution": {
     "iopub.execute_input": "2025-08-19T11:30:29.397962Z",
     "iopub.status.busy": "2025-08-19T11:30:29.397597Z",
     "iopub.status.idle": "2025-08-19T11:30:29.663316Z",
     "shell.execute_reply": "2025-08-19T11:30:29.662227Z"
    },
    "papermill": {
     "duration": 0.285042,
     "end_time": "2025-08-19T11:30:29.665093",
     "exception": false,
     "start_time": "2025-08-19T11:30:29.380051",
     "status": "completed"
    },
    "tags": []
   },
   "outputs": [],
   "source": [
    "from sklearn.model_selection import train_test_split\n",
    "from sklearn.linear_model import LinearRegression\n",
    "from sklearn.metrics import mean_squared_error, r2_score"
   ]
  },
  {
   "cell_type": "markdown",
   "id": "32efb626",
   "metadata": {
    "papermill": {
     "duration": 0.015926,
     "end_time": "2025-08-19T11:30:29.697821",
     "exception": false,
     "start_time": "2025-08-19T11:30:29.681895",
     "status": "completed"
    },
    "tags": []
   },
   "source": [
    "# Split the data"
   ]
  },
  {
   "cell_type": "code",
   "execution_count": 42,
   "id": "b4eb037e",
   "metadata": {
    "execution": {
     "iopub.execute_input": "2025-08-19T11:30:29.731192Z",
     "iopub.status.busy": "2025-08-19T11:30:29.730832Z",
     "iopub.status.idle": "2025-08-19T11:30:29.738207Z",
     "shell.execute_reply": "2025-08-19T11:30:29.737284Z"
    },
    "papermill": {
     "duration": 0.025975,
     "end_time": "2025-08-19T11:30:29.739738",
     "exception": false,
     "start_time": "2025-08-19T11:30:29.713763",
     "status": "completed"
    },
    "tags": []
   },
   "outputs": [],
   "source": [
    "# Defining X and y\n",
    "X = df[['Selling_Price', 'Driven_kms', 'Owner', 'Car_Age',\n",
    "       'Fuel_Type_Diesel', 'Fuel_Type_Petrol', 'Selling_type_Individual',\n",
    "       'Transmission_Manual', 'Brand_Bajaj', 'Brand_Hero', 'Brand_Honda',\n",
    "       'Brand_Hyosung', 'Brand_KTM', 'Brand_Mahindra', 'Brand_Royal',\n",
    "       'Brand_Suzuki', 'Brand_TVS', 'Brand_UM', 'Brand_Yamaha', 'Brand_alto',\n",
    "       'Brand_amaze', 'Brand_baleno', 'Brand_brio', 'Brand_ciaz', 'Brand_city',\n",
    "       'Brand_corolla', 'Brand_creta', 'Brand_dzire', 'Brand_elantra',\n",
    "       'Brand_eon', 'Brand_ertiga', 'Brand_etios', 'Brand_fortuner',\n",
    "       'Brand_grand', 'Brand_i10', 'Brand_i20', 'Brand_ignis', 'Brand_innova',\n",
    "       'Brand_jazz', 'Brand_land', 'Brand_omni', 'Brand_ritz', 'Brand_s',\n",
    "       'Brand_swift', 'Brand_sx4', 'Brand_verna', 'Brand_vitara',\n",
    "       'Brand_wagon', 'Brand_xcent']]\n",
    "y = df[\"Present_Price\"]"
   ]
  },
  {
   "cell_type": "markdown",
   "id": "e05b93a4",
   "metadata": {
    "papermill": {
     "duration": 0.016044,
     "end_time": "2025-08-19T11:30:29.771988",
     "exception": false,
     "start_time": "2025-08-19T11:30:29.755944",
     "status": "completed"
    },
    "tags": []
   },
   "source": [
    "# Define features (X) and target (Y)"
   ]
  },
  {
   "cell_type": "code",
   "execution_count": 43,
   "id": "ec6a80d6",
   "metadata": {
    "execution": {
     "iopub.execute_input": "2025-08-19T11:30:29.805925Z",
     "iopub.status.busy": "2025-08-19T11:30:29.805625Z",
     "iopub.status.idle": "2025-08-19T11:30:29.812863Z",
     "shell.execute_reply": "2025-08-19T11:30:29.811763Z"
    },
    "papermill": {
     "duration": 0.026255,
     "end_time": "2025-08-19T11:30:29.814676",
     "exception": false,
     "start_time": "2025-08-19T11:30:29.788421",
     "status": "completed"
    },
    "tags": []
   },
   "outputs": [],
   "source": [
    "X_train, X_test, y_train, y_test = train_test_split(X, y, test_size=0.2, random_state=42)"
   ]
  },
  {
   "cell_type": "markdown",
   "id": "e54076f7",
   "metadata": {
    "papermill": {
     "duration": 0.016209,
     "end_time": "2025-08-19T11:30:29.847918",
     "exception": false,
     "start_time": "2025-08-19T11:30:29.831709",
     "status": "completed"
    },
    "tags": []
   },
   "source": [
    "# Create and train the linear regression model"
   ]
  },
  {
   "cell_type": "code",
   "execution_count": 44,
   "id": "11939d83",
   "metadata": {
    "execution": {
     "iopub.execute_input": "2025-08-19T11:30:29.881669Z",
     "iopub.status.busy": "2025-08-19T11:30:29.881373Z",
     "iopub.status.idle": "2025-08-19T11:30:29.931142Z",
     "shell.execute_reply": "2025-08-19T11:30:29.930300Z"
    },
    "papermill": {
     "duration": 0.069319,
     "end_time": "2025-08-19T11:30:29.933188",
     "exception": false,
     "start_time": "2025-08-19T11:30:29.863869",
     "status": "completed"
    },
    "tags": []
   },
   "outputs": [],
   "source": [
    "# Create and train the linear regression model\n",
    "model = LinearRegression()\n",
    "model.fit(X_train , y_train)\n",
    "# Predict on test data\n",
    "Y_pred = model.predict(X_test)"
   ]
  },
  {
   "cell_type": "markdown",
   "id": "cb45c702",
   "metadata": {
    "papermill": {
     "duration": 0.026997,
     "end_time": "2025-08-19T11:30:29.987390",
     "exception": false,
     "start_time": "2025-08-19T11:30:29.960393",
     "status": "completed"
    },
    "tags": []
   },
   "source": [
    "# Evaluate Model’s Performance"
   ]
  },
  {
   "cell_type": "code",
   "execution_count": 45,
   "id": "6fa9f276",
   "metadata": {
    "execution": {
     "iopub.execute_input": "2025-08-19T11:30:30.043723Z",
     "iopub.status.busy": "2025-08-19T11:30:30.043397Z",
     "iopub.status.idle": "2025-08-19T11:30:30.050716Z",
     "shell.execute_reply": "2025-08-19T11:30:30.049817Z"
    },
    "papermill": {
     "duration": 0.036906,
     "end_time": "2025-08-19T11:30:30.052154",
     "exception": false,
     "start_time": "2025-08-19T11:30:30.015248",
     "status": "completed"
    },
    "tags": []
   },
   "outputs": [
    {
     "name": "stdout",
     "output_type": "stream",
     "text": [
      "MSE:  0.05821820335673935\n",
      "r2_score:  0.9478857581441834\n"
     ]
    }
   ],
   "source": [
    "print(\"MSE: \",mean_squared_error(y_test, Y_pred))\n",
    "print(\"r2_score: \",r2_score(y_test, Y_pred))"
   ]
  }
 ],
 "metadata": {
  "kaggle": {
   "accelerator": "none",
   "dataSources": [
    {
     "datasetId": 2491159,
     "sourceId": 4226692,
     "sourceType": "datasetVersion"
    }
   ],
   "dockerImageVersionId": 31089,
   "isGpuEnabled": false,
   "isInternetEnabled": true,
   "language": "python",
   "sourceType": "notebook"
  },
  "kernelspec": {
   "display_name": "Python 3",
   "language": "python",
   "name": "python3"
  },
  "language_info": {
   "codemirror_mode": {
    "name": "ipython",
    "version": 3
   },
   "file_extension": ".py",
   "mimetype": "text/x-python",
   "name": "python",
   "nbconvert_exporter": "python",
   "pygments_lexer": "ipython3",
   "version": "3.11.13"
  },
  "papermill": {
   "default_parameters": {},
   "duration": 15.405536,
   "end_time": "2025-08-19T11:30:30.891328",
   "environment_variables": {},
   "exception": null,
   "input_path": "__notebook__.ipynb",
   "output_path": "__notebook__.ipynb",
   "parameters": {},
   "start_time": "2025-08-19T11:30:15.485792",
   "version": "2.6.0"
  }
 },
 "nbformat": 4,
 "nbformat_minor": 5
}
