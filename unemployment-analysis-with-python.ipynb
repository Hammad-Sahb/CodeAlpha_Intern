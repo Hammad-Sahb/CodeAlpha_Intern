{
 "cells": [
  {
   "cell_type": "code",
   "execution_count": 1,
   "id": "480499e8",
   "metadata": {
    "_cell_guid": "b1076dfc-b9ad-4769-8c92-a6c4dae69d19",
    "_uuid": "8f2839f25d086af736a60e9eeb907d3b93b6e0e5",
    "execution": {
     "iopub.execute_input": "2025-08-12T11:15:21.540334Z",
     "iopub.status.busy": "2025-08-12T11:15:21.540014Z",
     "iopub.status.idle": "2025-08-12T11:15:23.370488Z",
     "shell.execute_reply": "2025-08-12T11:15:23.369367Z"
    },
    "papermill": {
     "duration": 1.839893,
     "end_time": "2025-08-12T11:15:23.372161",
     "exception": false,
     "start_time": "2025-08-12T11:15:21.532268",
     "status": "completed"
    },
    "tags": []
   },
   "outputs": [
    {
     "name": "stdout",
     "output_type": "stream",
     "text": [
      "/kaggle/input/unemployment-in-india/Unemployment_Rate_upto_11_2020.csv\n",
      "/kaggle/input/unemployment-in-india/Unemployment in India.csv\n"
     ]
    }
   ],
   "source": [
    "# This Python 3 environment comes with many helpful analytics libraries installed\n",
    "# It is defined by the kaggle/python Docker image: https://github.com/kaggle/docker-python\n",
    "# For example, here's several helpful packages to load\n",
    "\n",
    "import numpy as np # linear algebra\n",
    "import pandas as pd # data processing, CSV file I/O (e.g. pd.read_csv)\n",
    "\n",
    "# Input data files are available in the read-only \"../input/\" directory\n",
    "# For example, running this (by clicking run or pressing Shift+Enter) will list all files under the input directory\n",
    "\n",
    "import os\n",
    "for dirname, _, filenames in os.walk('/kaggle/input'):\n",
    "    for filename in filenames:\n",
    "        print(os.path.join(dirname, filename))\n",
    "\n",
    "# You can write up to 20GB to the current directory (/kaggle/working/) that gets preserved as output when you create a version using \"Save & Run All\" \n",
    "# You can also write temporary files to /kaggle/temp/, but they won't be saved outside of the current session"
   ]
  },
  {
   "cell_type": "markdown",
   "id": "d8a7dd63",
   "metadata": {
    "papermill": {
     "duration": 0.005383,
     "end_time": "2025-08-12T11:15:23.383890",
     "exception": false,
     "start_time": "2025-08-12T11:15:23.378507",
     "status": "completed"
    },
    "tags": []
   },
   "source": [
    "# CodeAlpha internship\n",
    "# Studend: Hammad Yousaf"
   ]
  },
  {
   "cell_type": "markdown",
   "id": "34f5b406",
   "metadata": {
    "papermill": {
     "duration": 0.005097,
     "end_time": "2025-08-12T11:15:23.394635",
     "exception": false,
     "start_time": "2025-08-12T11:15:23.389538",
     "status": "completed"
    },
    "tags": []
   },
   "source": [
    "# TASK 2: Unemployment Analysis with Python\n",
    "● Analyze unemployment rate data representing unemployed people percentage.\n",
    "\n",
    "\n",
    "● Use Python for data cleaning, exploration, and visualization of unemployment trends.\n",
    "\n",
    "\n",
    "● Investigate the impact of Covid-19 on unemployment rates.\n",
    "\n",
    "\n",
    "● Identify key patterns or seasonal trends in the data.\n",
    "\n",
    "\n",
    "● Present insights that could inform economic or social policies.\n",
    "\n"
   ]
  },
  {
   "cell_type": "markdown",
   "id": "5d97c82e",
   "metadata": {
    "papermill": {
     "duration": 0.005074,
     "end_time": "2025-08-12T11:15:23.405149",
     "exception": false,
     "start_time": "2025-08-12T11:15:23.400075",
     "status": "completed"
    },
    "tags": []
   },
   "source": [
    "# 1st_Part ( Analyze unemployment rate data representing unemployed people percentage)\n",
    "# 2nd_part ( Use Python for data cleaning, exploration, and visualization of unemployment trends)"
   ]
  },
  {
   "cell_type": "markdown",
   "id": "67f3087d",
   "metadata": {
    "papermill": {
     "duration": 0.005095,
     "end_time": "2025-08-12T11:15:23.415637",
     "exception": false,
     "start_time": "2025-08-12T11:15:23.410542",
     "status": "completed"
    },
    "tags": []
   },
   "source": [
    "# Step_1. Import libraries"
   ]
  },
  {
   "cell_type": "code",
   "execution_count": 2,
   "id": "4faa368f",
   "metadata": {
    "execution": {
     "iopub.execute_input": "2025-08-12T11:15:23.427707Z",
     "iopub.status.busy": "2025-08-12T11:15:23.427130Z",
     "iopub.status.idle": "2025-08-12T11:15:25.181429Z",
     "shell.execute_reply": "2025-08-12T11:15:25.180595Z"
    },
    "papermill": {
     "duration": 1.762251,
     "end_time": "2025-08-12T11:15:25.183173",
     "exception": false,
     "start_time": "2025-08-12T11:15:23.420922",
     "status": "completed"
    },
    "tags": []
   },
   "outputs": [],
   "source": [
    "# Import libraries\n",
    "import pandas as pd \n",
    "import numpy as np\n",
    "import seaborn as sns\n",
    "import matplotlib.pyplot as plt"
   ]
  },
  {
   "cell_type": "markdown",
   "id": "4209a185",
   "metadata": {
    "papermill": {
     "duration": 0.005367,
     "end_time": "2025-08-12T11:15:25.195493",
     "exception": false,
     "start_time": "2025-08-12T11:15:25.190126",
     "status": "completed"
    },
    "tags": []
   },
   "source": [
    "# Step_2. Load the Dataste"
   ]
  },
  {
   "cell_type": "code",
   "execution_count": 3,
   "id": "32b5af22",
   "metadata": {
    "execution": {
     "iopub.execute_input": "2025-08-12T11:15:25.207792Z",
     "iopub.status.busy": "2025-08-12T11:15:25.207346Z",
     "iopub.status.idle": "2025-08-12T11:15:25.246962Z",
     "shell.execute_reply": "2025-08-12T11:15:25.246090Z"
    },
    "papermill": {
     "duration": 0.047335,
     "end_time": "2025-08-12T11:15:25.248328",
     "exception": false,
     "start_time": "2025-08-12T11:15:25.200993",
     "status": "completed"
    },
    "tags": []
   },
   "outputs": [
    {
     "data": {
      "text/html": [
       "<div>\n",
       "<style scoped>\n",
       "    .dataframe tbody tr th:only-of-type {\n",
       "        vertical-align: middle;\n",
       "    }\n",
       "\n",
       "    .dataframe tbody tr th {\n",
       "        vertical-align: top;\n",
       "    }\n",
       "\n",
       "    .dataframe thead th {\n",
       "        text-align: right;\n",
       "    }\n",
       "</style>\n",
       "<table border=\"1\" class=\"dataframe\">\n",
       "  <thead>\n",
       "    <tr style=\"text-align: right;\">\n",
       "      <th></th>\n",
       "      <th>Region</th>\n",
       "      <th>Date</th>\n",
       "      <th>Frequency</th>\n",
       "      <th>Estimated Unemployment Rate (%)</th>\n",
       "      <th>Estimated Employed</th>\n",
       "      <th>Estimated Labour Participation Rate (%)</th>\n",
       "      <th>Area</th>\n",
       "    </tr>\n",
       "  </thead>\n",
       "  <tbody>\n",
       "    <tr>\n",
       "      <th>0</th>\n",
       "      <td>Andhra Pradesh</td>\n",
       "      <td>31-05-2019</td>\n",
       "      <td>Monthly</td>\n",
       "      <td>3.65</td>\n",
       "      <td>11999139.0</td>\n",
       "      <td>43.24</td>\n",
       "      <td>Rural</td>\n",
       "    </tr>\n",
       "    <tr>\n",
       "      <th>1</th>\n",
       "      <td>Andhra Pradesh</td>\n",
       "      <td>30-06-2019</td>\n",
       "      <td>Monthly</td>\n",
       "      <td>3.05</td>\n",
       "      <td>11755881.0</td>\n",
       "      <td>42.05</td>\n",
       "      <td>Rural</td>\n",
       "    </tr>\n",
       "    <tr>\n",
       "      <th>2</th>\n",
       "      <td>Andhra Pradesh</td>\n",
       "      <td>31-07-2019</td>\n",
       "      <td>Monthly</td>\n",
       "      <td>3.75</td>\n",
       "      <td>12086707.0</td>\n",
       "      <td>43.50</td>\n",
       "      <td>Rural</td>\n",
       "    </tr>\n",
       "    <tr>\n",
       "      <th>3</th>\n",
       "      <td>Andhra Pradesh</td>\n",
       "      <td>31-08-2019</td>\n",
       "      <td>Monthly</td>\n",
       "      <td>3.32</td>\n",
       "      <td>12285693.0</td>\n",
       "      <td>43.97</td>\n",
       "      <td>Rural</td>\n",
       "    </tr>\n",
       "    <tr>\n",
       "      <th>4</th>\n",
       "      <td>Andhra Pradesh</td>\n",
       "      <td>30-09-2019</td>\n",
       "      <td>Monthly</td>\n",
       "      <td>5.17</td>\n",
       "      <td>12256762.0</td>\n",
       "      <td>44.68</td>\n",
       "      <td>Rural</td>\n",
       "    </tr>\n",
       "  </tbody>\n",
       "</table>\n",
       "</div>"
      ],
      "text/plain": [
       "           Region         Date  Frequency   Estimated Unemployment Rate (%)  \\\n",
       "0  Andhra Pradesh   31-05-2019    Monthly                              3.65   \n",
       "1  Andhra Pradesh   30-06-2019    Monthly                              3.05   \n",
       "2  Andhra Pradesh   31-07-2019    Monthly                              3.75   \n",
       "3  Andhra Pradesh   31-08-2019    Monthly                              3.32   \n",
       "4  Andhra Pradesh   30-09-2019    Monthly                              5.17   \n",
       "\n",
       "    Estimated Employed   Estimated Labour Participation Rate (%)   Area  \n",
       "0           11999139.0                                     43.24  Rural  \n",
       "1           11755881.0                                     42.05  Rural  \n",
       "2           12086707.0                                     43.50  Rural  \n",
       "3           12285693.0                                     43.97  Rural  \n",
       "4           12256762.0                                     44.68  Rural  "
      ]
     },
     "execution_count": 3,
     "metadata": {},
     "output_type": "execute_result"
    }
   ],
   "source": [
    "df = pd.read_csv(\"/kaggle/input/unemployment-in-india/Unemployment in India.csv\")\n",
    "df.head()"
   ]
  },
  {
   "cell_type": "code",
   "execution_count": 4,
   "id": "467f9f9c",
   "metadata": {
    "execution": {
     "iopub.execute_input": "2025-08-12T11:15:25.261339Z",
     "iopub.status.busy": "2025-08-12T11:15:25.260951Z",
     "iopub.status.idle": "2025-08-12T11:15:25.269304Z",
     "shell.execute_reply": "2025-08-12T11:15:25.268529Z"
    },
    "papermill": {
     "duration": 0.016692,
     "end_time": "2025-08-12T11:15:25.270961",
     "exception": false,
     "start_time": "2025-08-12T11:15:25.254269",
     "status": "completed"
    },
    "tags": []
   },
   "outputs": [
    {
     "data": {
      "text/plain": [
       "0    3.65\n",
       "1    3.05\n",
       "2    3.75\n",
       "3    3.32\n",
       "4    5.17\n",
       "Name:  Estimated Unemployment Rate (%), dtype: float64"
      ]
     },
     "execution_count": 4,
     "metadata": {},
     "output_type": "execute_result"
    }
   ],
   "source": [
    "df[' Estimated Unemployment Rate (%)'].head()"
   ]
  },
  {
   "cell_type": "code",
   "execution_count": 5,
   "id": "a9160539",
   "metadata": {
    "execution": {
     "iopub.execute_input": "2025-08-12T11:15:25.284448Z",
     "iopub.status.busy": "2025-08-12T11:15:25.284066Z",
     "iopub.status.idle": "2025-08-12T11:15:25.290974Z",
     "shell.execute_reply": "2025-08-12T11:15:25.290307Z"
    },
    "papermill": {
     "duration": 0.015451,
     "end_time": "2025-08-12T11:15:25.292360",
     "exception": false,
     "start_time": "2025-08-12T11:15:25.276909",
     "status": "completed"
    },
    "tags": []
   },
   "outputs": [
    {
     "data": {
      "text/plain": [
       "Index(['Region', ' Date', ' Frequency', ' Estimated Unemployment Rate (%)',\n",
       "       ' Estimated Employed', ' Estimated Labour Participation Rate (%)',\n",
       "       'Area'],\n",
       "      dtype='object')"
      ]
     },
     "execution_count": 5,
     "metadata": {},
     "output_type": "execute_result"
    }
   ],
   "source": [
    "df.columns"
   ]
  },
  {
   "cell_type": "markdown",
   "id": "a754355c",
   "metadata": {
    "papermill": {
     "duration": 0.005758,
     "end_time": "2025-08-12T11:15:25.304477",
     "exception": false,
     "start_time": "2025-08-12T11:15:25.298719",
     "status": "completed"
    },
    "tags": []
   },
   "source": [
    "# Step_3. EDA"
   ]
  },
  {
   "cell_type": "code",
   "execution_count": 6,
   "id": "41937cf3",
   "metadata": {
    "execution": {
     "iopub.execute_input": "2025-08-12T11:15:25.317314Z",
     "iopub.status.busy": "2025-08-12T11:15:25.316968Z",
     "iopub.status.idle": "2025-08-12T11:15:25.338356Z",
     "shell.execute_reply": "2025-08-12T11:15:25.337350Z"
    },
    "papermill": {
     "duration": 0.029485,
     "end_time": "2025-08-12T11:15:25.339759",
     "exception": false,
     "start_time": "2025-08-12T11:15:25.310274",
     "status": "completed"
    },
    "tags": []
   },
   "outputs": [
    {
     "name": "stdout",
     "output_type": "stream",
     "text": [
      "<class 'pandas.core.frame.DataFrame'>\n",
      "RangeIndex: 768 entries, 0 to 767\n",
      "Data columns (total 7 columns):\n",
      " #   Column                                    Non-Null Count  Dtype  \n",
      "---  ------                                    --------------  -----  \n",
      " 0   Region                                    740 non-null    object \n",
      " 1    Date                                     740 non-null    object \n",
      " 2    Frequency                                740 non-null    object \n",
      " 3    Estimated Unemployment Rate (%)          740 non-null    float64\n",
      " 4    Estimated Employed                       740 non-null    float64\n",
      " 5    Estimated Labour Participation Rate (%)  740 non-null    float64\n",
      " 6   Area                                      740 non-null    object \n",
      "dtypes: float64(3), object(4)\n",
      "memory usage: 42.1+ KB\n"
     ]
    }
   ],
   "source": [
    "df.info()"
   ]
  },
  {
   "cell_type": "code",
   "execution_count": 7,
   "id": "a5203c32",
   "metadata": {
    "execution": {
     "iopub.execute_input": "2025-08-12T11:15:25.353831Z",
     "iopub.status.busy": "2025-08-12T11:15:25.353088Z",
     "iopub.status.idle": "2025-08-12T11:15:25.359405Z",
     "shell.execute_reply": "2025-08-12T11:15:25.358535Z"
    },
    "papermill": {
     "duration": 0.014878,
     "end_time": "2025-08-12T11:15:25.360831",
     "exception": false,
     "start_time": "2025-08-12T11:15:25.345953",
     "status": "completed"
    },
    "tags": []
   },
   "outputs": [
    {
     "data": {
      "text/plain": [
       "(768, 7)"
      ]
     },
     "execution_count": 7,
     "metadata": {},
     "output_type": "execute_result"
    }
   ],
   "source": [
    "df.shape"
   ]
  },
  {
   "cell_type": "markdown",
   "id": "83c42ce5",
   "metadata": {
    "papermill": {
     "duration": 0.005974,
     "end_time": "2025-08-12T11:15:25.373234",
     "exception": false,
     "start_time": "2025-08-12T11:15:25.367260",
     "status": "completed"
    },
    "tags": []
   },
   "source": [
    "# Step_4. Discriptive Statistic"
   ]
  },
  {
   "cell_type": "code",
   "execution_count": 8,
   "id": "1efa58b9",
   "metadata": {
    "execution": {
     "iopub.execute_input": "2025-08-12T11:15:25.386928Z",
     "iopub.status.busy": "2025-08-12T11:15:25.386610Z",
     "iopub.status.idle": "2025-08-12T11:15:25.406518Z",
     "shell.execute_reply": "2025-08-12T11:15:25.405636Z"
    },
    "papermill": {
     "duration": 0.028669,
     "end_time": "2025-08-12T11:15:25.408145",
     "exception": false,
     "start_time": "2025-08-12T11:15:25.379476",
     "status": "completed"
    },
    "tags": []
   },
   "outputs": [
    {
     "data": {
      "text/html": [
       "<div>\n",
       "<style scoped>\n",
       "    .dataframe tbody tr th:only-of-type {\n",
       "        vertical-align: middle;\n",
       "    }\n",
       "\n",
       "    .dataframe tbody tr th {\n",
       "        vertical-align: top;\n",
       "    }\n",
       "\n",
       "    .dataframe thead th {\n",
       "        text-align: right;\n",
       "    }\n",
       "</style>\n",
       "<table border=\"1\" class=\"dataframe\">\n",
       "  <thead>\n",
       "    <tr style=\"text-align: right;\">\n",
       "      <th></th>\n",
       "      <th>Estimated Unemployment Rate (%)</th>\n",
       "      <th>Estimated Employed</th>\n",
       "      <th>Estimated Labour Participation Rate (%)</th>\n",
       "    </tr>\n",
       "  </thead>\n",
       "  <tbody>\n",
       "    <tr>\n",
       "      <th>count</th>\n",
       "      <td>740.000000</td>\n",
       "      <td>7.400000e+02</td>\n",
       "      <td>740.000000</td>\n",
       "    </tr>\n",
       "    <tr>\n",
       "      <th>mean</th>\n",
       "      <td>11.787946</td>\n",
       "      <td>7.204460e+06</td>\n",
       "      <td>42.630122</td>\n",
       "    </tr>\n",
       "    <tr>\n",
       "      <th>std</th>\n",
       "      <td>10.721298</td>\n",
       "      <td>8.087988e+06</td>\n",
       "      <td>8.111094</td>\n",
       "    </tr>\n",
       "    <tr>\n",
       "      <th>min</th>\n",
       "      <td>0.000000</td>\n",
       "      <td>4.942000e+04</td>\n",
       "      <td>13.330000</td>\n",
       "    </tr>\n",
       "    <tr>\n",
       "      <th>25%</th>\n",
       "      <td>4.657500</td>\n",
       "      <td>1.190404e+06</td>\n",
       "      <td>38.062500</td>\n",
       "    </tr>\n",
       "    <tr>\n",
       "      <th>50%</th>\n",
       "      <td>8.350000</td>\n",
       "      <td>4.744178e+06</td>\n",
       "      <td>41.160000</td>\n",
       "    </tr>\n",
       "    <tr>\n",
       "      <th>75%</th>\n",
       "      <td>15.887500</td>\n",
       "      <td>1.127549e+07</td>\n",
       "      <td>45.505000</td>\n",
       "    </tr>\n",
       "    <tr>\n",
       "      <th>max</th>\n",
       "      <td>76.740000</td>\n",
       "      <td>4.577751e+07</td>\n",
       "      <td>72.570000</td>\n",
       "    </tr>\n",
       "  </tbody>\n",
       "</table>\n",
       "</div>"
      ],
      "text/plain": [
       "       Estimated Unemployment Rate (%)  Estimated Employed  \\\n",
       "count                       740.000000        7.400000e+02   \n",
       "mean                         11.787946        7.204460e+06   \n",
       "std                          10.721298        8.087988e+06   \n",
       "min                           0.000000        4.942000e+04   \n",
       "25%                           4.657500        1.190404e+06   \n",
       "50%                           8.350000        4.744178e+06   \n",
       "75%                          15.887500        1.127549e+07   \n",
       "max                          76.740000        4.577751e+07   \n",
       "\n",
       "       Estimated Labour Participation Rate (%)  \n",
       "count                               740.000000  \n",
       "mean                                 42.630122  \n",
       "std                                   8.111094  \n",
       "min                                  13.330000  \n",
       "25%                                  38.062500  \n",
       "50%                                  41.160000  \n",
       "75%                                  45.505000  \n",
       "max                                  72.570000  "
      ]
     },
     "execution_count": 8,
     "metadata": {},
     "output_type": "execute_result"
    }
   ],
   "source": [
    "df.describe()"
   ]
  },
  {
   "cell_type": "markdown",
   "id": "fc20c248",
   "metadata": {
    "papermill": {
     "duration": 0.005779,
     "end_time": "2025-08-12T11:15:25.420338",
     "exception": false,
     "start_time": "2025-08-12T11:15:25.414559",
     "status": "completed"
    },
    "tags": []
   },
   "source": [
    "# Step_5. Handle Missing valiues"
   ]
  },
  {
   "cell_type": "code",
   "execution_count": 9,
   "id": "6d94cfa1",
   "metadata": {
    "execution": {
     "iopub.execute_input": "2025-08-12T11:15:25.435178Z",
     "iopub.status.busy": "2025-08-12T11:15:25.434328Z",
     "iopub.status.idle": "2025-08-12T11:15:25.441546Z",
     "shell.execute_reply": "2025-08-12T11:15:25.440705Z"
    },
    "papermill": {
     "duration": 0.015945,
     "end_time": "2025-08-12T11:15:25.442970",
     "exception": false,
     "start_time": "2025-08-12T11:15:25.427025",
     "status": "completed"
    },
    "tags": []
   },
   "outputs": [
    {
     "data": {
      "text/plain": [
       "Region                                      28\n",
       " Date                                       28\n",
       " Frequency                                  28\n",
       " Estimated Unemployment Rate (%)            28\n",
       " Estimated Employed                         28\n",
       " Estimated Labour Participation Rate (%)    28\n",
       "Area                                        28\n",
       "dtype: int64"
      ]
     },
     "execution_count": 9,
     "metadata": {},
     "output_type": "execute_result"
    }
   ],
   "source": [
    "df.isnull().sum()"
   ]
  },
  {
   "cell_type": "code",
   "execution_count": 10,
   "id": "aebb9e90",
   "metadata": {
    "execution": {
     "iopub.execute_input": "2025-08-12T11:15:25.456775Z",
     "iopub.status.busy": "2025-08-12T11:15:25.456509Z",
     "iopub.status.idle": "2025-08-12T11:15:25.964978Z",
     "shell.execute_reply": "2025-08-12T11:15:25.964178Z"
    },
    "papermill": {
     "duration": 0.517503,
     "end_time": "2025-08-12T11:15:25.966896",
     "exception": false,
     "start_time": "2025-08-12T11:15:25.449393",
     "status": "completed"
    },
    "tags": []
   },
   "outputs": [
    {
     "data": {
      "text/plain": [
       "Text(0.5, 1.0, 'Percentage of Missing Values in each Column')"
      ]
     },
     "execution_count": 10,
     "metadata": {},
     "output_type": "execute_result"
    },
    {
     "data": {
      "image/png": "[encoded data removed]",
      "text/plain": [
       "<Figure size 1600x600 with 1 Axes>"
      ]
     },
     "metadata": {},
     "output_type": "display_data"
    }
   ],
   "source": [
    "# make figure size\n",
    "plt.figure(figsize=(16, 6))\n",
    "# plot the null values by their percentage in each column\n",
    "missing_percentage = df.isnull().sum()/len(df)*100\n",
    "missing_percentage.plot(kind='bar')\n",
    "# add the labels\n",
    "plt.xlabel('Columns')\n",
    "plt.ylabel('Percentage')\n",
    "plt.title('Percentage of Missing Values in each Column')"
   ]
  },
  {
   "cell_type": "code",
   "execution_count": 11,
   "id": "cbe4d372",
   "metadata": {
    "execution": {
     "iopub.execute_input": "2025-08-12T11:15:25.982773Z",
     "iopub.status.busy": "2025-08-12T11:15:25.982479Z",
     "iopub.status.idle": "2025-08-12T11:15:25.990295Z",
     "shell.execute_reply": "2025-08-12T11:15:25.989505Z"
    },
    "papermill": {
     "duration": 0.017254,
     "end_time": "2025-08-12T11:15:25.991721",
     "exception": false,
     "start_time": "2025-08-12T11:15:25.974467",
     "status": "completed"
    },
    "tags": []
   },
   "outputs": [],
   "source": [
    "df = df.dropna()"
   ]
  },
  {
   "cell_type": "code",
   "execution_count": 12,
   "id": "ba0ecf37",
   "metadata": {
    "execution": {
     "iopub.execute_input": "2025-08-12T11:15:26.007542Z",
     "iopub.status.busy": "2025-08-12T11:15:26.007136Z",
     "iopub.status.idle": "2025-08-12T11:15:26.014253Z",
     "shell.execute_reply": "2025-08-12T11:15:26.013528Z"
    },
    "papermill": {
     "duration": 0.01654,
     "end_time": "2025-08-12T11:15:26.015606",
     "exception": false,
     "start_time": "2025-08-12T11:15:25.999066",
     "status": "completed"
    },
    "tags": []
   },
   "outputs": [
    {
     "data": {
      "text/plain": [
       "Region                                      0\n",
       " Date                                       0\n",
       " Frequency                                  0\n",
       " Estimated Unemployment Rate (%)            0\n",
       " Estimated Employed                         0\n",
       " Estimated Labour Participation Rate (%)    0\n",
       "Area                                        0\n",
       "dtype: int64"
      ]
     },
     "execution_count": 12,
     "metadata": {},
     "output_type": "execute_result"
    }
   ],
   "source": [
    "df.isnull().sum()"
   ]
  },
  {
   "cell_type": "code",
   "execution_count": 13,
   "id": "e7d2d483",
   "metadata": {
    "execution": {
     "iopub.execute_input": "2025-08-12T11:15:26.032153Z",
     "iopub.status.busy": "2025-08-12T11:15:26.031609Z",
     "iopub.status.idle": "2025-08-12T11:15:26.166893Z",
     "shell.execute_reply": "2025-08-12T11:15:26.165704Z"
    },
    "papermill": {
     "duration": 0.144813,
     "end_time": "2025-08-12T11:15:26.168219",
     "exception": true,
     "start_time": "2025-08-12T11:15:26.023406",
     "status": "failed"
    },
    "tags": []
   },
   "outputs": [
    {
     "ename": "NameError",
     "evalue": "name 'df_clean' is not defined",
     "output_type": "error",
     "traceback": [
      "\u001b[0;31m---------------------------------------------------------------------------\u001b[0m",
      "\u001b[0;31mNameError\u001b[0m                                 Traceback (most recent call last)",
      "\u001b[0;32m/tmp/ipykernel_13/3583534872.py\u001b[0m in \u001b[0;36m<cell line: 0>\u001b[0;34m()\u001b[0m\n\u001b[1;32m      1\u001b[0m \u001b[0;31m# use groupby function to find the trend of Rating in each Installs_category\u001b[0m\u001b[0;34m\u001b[0m\u001b[0;34m\u001b[0m\u001b[0m\n\u001b[0;32m----> 2\u001b[0;31m \u001b[0mavg_state\u001b[0m \u001b[0;34m=\u001b[0m \u001b[0mdf_clean\u001b[0m\u001b[0;34m.\u001b[0m\u001b[0mgroupby\u001b[0m\u001b[0;34m(\u001b[0m\u001b[0;34m'Region'\u001b[0m\u001b[0;34m)\u001b[0m\u001b[0;34m[\u001b[0m\u001b[0;34m' Estimated Unemployment Rate (%)'\u001b[0m\u001b[0;34m]\u001b[0m\u001b[0;34m.\u001b[0m\u001b[0mmean\u001b[0m\u001b[0;34m(\u001b[0m\u001b[0;34m)\u001b[0m\u001b[0;34m.\u001b[0m\u001b[0msort_values\u001b[0m\u001b[0;34m(\u001b[0m\u001b[0mascending\u001b[0m\u001b[0;34m=\u001b[0m\u001b[0;32mFalse\u001b[0m\u001b[0;34m)\u001b[0m\u001b[0;34m\u001b[0m\u001b[0;34m\u001b[0m\u001b[0m\n\u001b[0m\u001b[1;32m      3\u001b[0m \u001b[0mprint\u001b[0m\u001b[0;34m(\u001b[0m\u001b[0;34m\"Average Unemployment Rate by State:\\n\"\u001b[0m\u001b[0;34m,\u001b[0m \u001b[0mavg_state\u001b[0m\u001b[0;34m)\u001b[0m\u001b[0;34m\u001b[0m\u001b[0;34m\u001b[0m\u001b[0m\n",
      "\u001b[0;31mNameError\u001b[0m: name 'df_clean' is not defined"
     ]
    }
   ],
   "source": [
    "# use groupby function to find the trend of Rating in each Installs_category\n",
    "avg_state = df_clean.groupby('Region')[' Estimated Unemployment Rate (%)'].mean().sort_values(ascending=False)\n",
    "print(\"Average Unemployment Rate by State:\\n\", avg_state)"
   ]
  },
  {
   "cell_type": "code",
   "execution_count": null,
   "id": "222a7c0e",
   "metadata": {
    "execution": {
     "iopub.execute_input": "2025-08-12T10:57:16.703957Z",
     "iopub.status.busy": "2025-08-12T10:57:16.703622Z",
     "iopub.status.idle": "2025-08-12T10:57:17.453908Z",
     "shell.execute_reply": "2025-08-12T10:57:17.453007Z",
     "shell.execute_reply.started": "2025-08-12T10:57:16.703932Z"
    },
    "papermill": {
     "duration": null,
     "end_time": null,
     "exception": null,
     "start_time": null,
     "status": "pending"
    },
    "tags": []
   },
   "outputs": [],
   "source": [
    "# 3. Average Unemployment Rate Plot\n",
    "# Group by State and take the average of both unemployment & labour participation\n",
    "avg_state = df_clean.groupby('Region')[[' Estimated Unemployment Rate (%)', \n",
    "                                        ' Estimated Labour Participation Rate (%)']].mean()\n",
    "\n",
    "# Sort by unemployment rate\n",
    "avg_state = avg_state.sort_values(by=' Estimated Unemployment Rate (%)', ascending=False)\n",
    "\n",
    "# Plot both columns together\n",
    "avg_state.plot(kind=\"bar\", figsize=(12,6))\n",
    "plt.title(\"Average Unemployment and Labor Participation Rate by Region\")\n",
    "plt.ylabel(\"Percentage\")\n",
    "plt.xlabel(\"Region\")\n",
    "plt.legend(title=\"Metric\")\n",
    "plt.tight_layout()\n",
    "plt.show()\n"
   ]
  },
  {
   "cell_type": "code",
   "execution_count": null,
   "id": "157837b5",
   "metadata": {
    "execution": {
     "iopub.execute_input": "2025-08-12T10:57:17.455526Z",
     "iopub.status.busy": "2025-08-12T10:57:17.455117Z",
     "iopub.status.idle": "2025-08-12T10:57:17.463593Z",
     "shell.execute_reply": "2025-08-12T10:57:17.462554Z",
     "shell.execute_reply.started": "2025-08-12T10:57:17.455497Z"
    },
    "papermill": {
     "duration": null,
     "end_time": null,
     "exception": null,
     "start_time": null,
     "status": "pending"
    },
    "tags": []
   },
   "outputs": [],
   "source": [
    "df['Date'] = pd.to_datetime(df[' Date'])"
   ]
  },
  {
   "cell_type": "code",
   "execution_count": null,
   "id": "726d5923",
   "metadata": {
    "execution": {
     "iopub.execute_input": "2025-08-12T10:57:17.464749Z",
     "iopub.status.busy": "2025-08-12T10:57:17.464477Z",
     "iopub.status.idle": "2025-08-12T10:57:17.481747Z",
     "shell.execute_reply": "2025-08-12T10:57:17.480982Z",
     "shell.execute_reply.started": "2025-08-12T10:57:17.464721Z"
    },
    "papermill": {
     "duration": null,
     "end_time": null,
     "exception": null,
     "start_time": null,
     "status": "pending"
    },
    "tags": []
   },
   "outputs": [],
   "source": [
    "df.columns"
   ]
  },
  {
   "cell_type": "code",
   "execution_count": null,
   "id": "43e17d9d",
   "metadata": {
    "execution": {
     "iopub.execute_input": "2025-08-12T10:57:17.482897Z",
     "iopub.status.busy": "2025-08-12T10:57:17.482600Z",
     "iopub.status.idle": "2025-08-12T10:57:17.679185Z",
     "shell.execute_reply": "2025-08-12T10:57:17.678429Z",
     "shell.execute_reply.started": "2025-08-12T10:57:17.482871Z"
    },
    "papermill": {
     "duration": null,
     "end_time": null,
     "exception": null,
     "start_time": null,
     "status": "pending"
    },
    "tags": []
   },
   "outputs": [],
   "source": [
    "import matplotlib.pyplot as plt\n",
    "df[' Estimated Unemployment Rate (%)'].plot(kind='hist', bins=10, edgecolor='black')\n",
    "plt.title(\"Distribution of Unemployment Rate\")\n",
    "plt.xlabel(\"Unemployment Rate (%)\")\n",
    "plt.show()"
   ]
  },
  {
   "cell_type": "code",
   "execution_count": null,
   "id": "e9aa855d",
   "metadata": {
    "execution": {
     "iopub.execute_input": "2025-08-12T10:57:17.680432Z",
     "iopub.status.busy": "2025-08-12T10:57:17.680129Z",
     "iopub.status.idle": "2025-08-12T10:57:17.688115Z",
     "shell.execute_reply": "2025-08-12T10:57:17.687298Z",
     "shell.execute_reply.started": "2025-08-12T10:57:17.680406Z"
    },
    "papermill": {
     "duration": null,
     "end_time": null,
     "exception": null,
     "start_time": null,
     "status": "pending"
    },
    "tags": []
   },
   "outputs": [],
   "source": [
    "avg_unemployment_rate=df_clean.groupby('Region')[' Estimated Unemployment Rate (%)'].mean()\n",
    "state_with_highest_unemployment=avg_unemployment_rate.idxmax()\n",
    "high_unemployment_rate=avg_unemployment_rate.max()\n",
    "state_with_lowest_unemployment=avg_unemployment_rate.idxmin()\n",
    "low_unemploy_rate=avg_unemployment_rate.min()\n",
    "print(f\"state  with  high employment : {state_with_highest_unemployment}\")\n",
    "print(f\"high employment rate : {high_unemployment_rate}\")\n",
    "print(f\"state  with  low employment : {state_with_lowest_unemployment}\")\n",
    "print(f\"low employment rate : {low_unemploy_rate}\")"
   ]
  },
  {
   "cell_type": "code",
   "execution_count": null,
   "id": "7356ba41",
   "metadata": {
    "execution": {
     "iopub.execute_input": "2025-08-12T10:57:17.689329Z",
     "iopub.status.busy": "2025-08-12T10:57:17.689015Z",
     "iopub.status.idle": "2025-08-12T10:57:18.020761Z",
     "shell.execute_reply": "2025-08-12T10:57:18.019839Z",
     "shell.execute_reply.started": "2025-08-12T10:57:17.689300Z"
    },
    "papermill": {
     "duration": null,
     "end_time": null,
     "exception": null,
     "start_time": null,
     "status": "pending"
    },
    "tags": []
   },
   "outputs": [],
   "source": [
    "regions = avg_unemployment_rate.index\n",
    "avg_rates = avg_unemployment_rate.values\n",
    "\n",
    "plt.figure(figsize=(10, 6))\n",
    "plt.bar(regions, avg_rates, color='skyblue')\n",
    "plt.xlabel('Region')\n",
    "plt.ylabel('Average Unemployment Rate')\n",
    "plt.title('Average Unemployment Rate by Region')\n",
    "plt.xticks(rotation=90)  \n",
    "plt.tight_layout()  \n",
    "plt.show()"
   ]
  },
  {
   "cell_type": "markdown",
   "id": "a4ab8f23",
   "metadata": {
    "papermill": {
     "duration": null,
     "end_time": null,
     "exception": null,
     "start_time": null,
     "status": "pending"
    },
    "tags": []
   },
   "source": [
    "# 3rd_Part (Investigate the impact of Covid-19 on unemployment rates)"
   ]
  },
  {
   "cell_type": "code",
   "execution_count": null,
   "id": "bef60c28",
   "metadata": {
    "execution": {
     "iopub.execute_input": "2025-08-12T10:57:18.021874Z",
     "iopub.status.busy": "2025-08-12T10:57:18.021653Z",
     "iopub.status.idle": "2025-08-12T10:57:18.027738Z",
     "shell.execute_reply": "2025-08-12T10:57:18.027009Z",
     "shell.execute_reply.started": "2025-08-12T10:57:18.021850Z"
    },
    "papermill": {
     "duration": null,
     "end_time": null,
     "exception": null,
     "start_time": null,
     "status": "pending"
    },
    "tags": []
   },
   "outputs": [],
   "source": [
    "df.columns"
   ]
  },
  {
   "cell_type": "markdown",
   "id": "8e538a2d",
   "metadata": {
    "papermill": {
     "duration": null,
     "end_time": null,
     "exception": null,
     "start_time": null,
     "status": "pending"
    },
    "tags": []
   },
   "source": [
    "# Compare Pre- and Post-COVID Levels"
   ]
  },
  {
   "cell_type": "code",
   "execution_count": null,
   "id": "c7497a1c",
   "metadata": {
    "execution": {
     "iopub.execute_input": "2025-08-12T11:01:38.735990Z",
     "iopub.status.busy": "2025-08-12T11:01:38.735655Z",
     "iopub.status.idle": "2025-08-12T11:01:38.743795Z",
     "shell.execute_reply": "2025-08-12T11:01:38.743001Z",
     "shell.execute_reply.started": "2025-08-12T11:01:38.735958Z"
    },
    "papermill": {
     "duration": null,
     "end_time": null,
     "exception": null,
     "start_time": null,
     "status": "pending"
    },
    "tags": []
   },
   "outputs": [],
   "source": [
    "pre_covid_avg = df[df[' Date'] < '2020-03'][' Estimated Unemployment Rate (%)'].mean()\n",
    "covid_avg = df[(df[' Date'] >= '2020-03') & (df['Date'] <= '2021-12')][' Estimated Unemployment Rate (%)'].mean()\n",
    "impact = ((covid_avg - pre_covid_avg) / pre_covid_avg) * 100"
   ]
  },
  {
   "cell_type": "code",
   "execution_count": null,
   "id": "0cd2f064",
   "metadata": {
    "execution": {
     "iopub.execute_input": "2025-08-12T10:57:18.046336Z",
     "iopub.status.busy": "2025-08-12T10:57:18.045964Z",
     "iopub.status.idle": "2025-08-12T10:57:18.323731Z",
     "shell.execute_reply": "2025-08-12T10:57:18.322676Z",
     "shell.execute_reply.started": "2025-08-12T10:57:18.046307Z"
    },
    "papermill": {
     "duration": null,
     "end_time": null,
     "exception": null,
     "start_time": null,
     "status": "pending"
    },
    "tags": []
   },
   "outputs": [],
   "source": [
    "plt.figure(figsize=(10,6))\n",
    "plt.plot(df[' Date'], df[' Estimated Unemployment Rate (%)'], label='Unemployment Rate')\n",
    "plt.axvspan('2020-03', '2021-12', color='red', alpha=0.1, label='COVID Period')\n",
    "plt.legend()\n",
    "plt.title(\"Unemployment Rate Before, During, and After COVID-19\")\n",
    "plt.show()"
   ]
  },
  {
   "cell_type": "markdown",
   "id": "436eb7d3",
   "metadata": {
    "papermill": {
     "duration": null,
     "end_time": null,
     "exception": null,
     "start_time": null,
     "status": "pending"
    },
    "tags": []
   },
   "source": [
    " # 3rd_Part (Identify key patterns or seasonal trends in the data)"
   ]
  },
  {
   "cell_type": "code",
   "execution_count": null,
   "id": "c97c9865",
   "metadata": {
    "execution": {
     "iopub.execute_input": "2025-08-12T11:05:58.846791Z",
     "iopub.status.busy": "2025-08-12T11:05:58.845829Z",
     "iopub.status.idle": "2025-08-12T11:05:59.094414Z",
     "shell.execute_reply": "2025-08-12T11:05:59.093308Z",
     "shell.execute_reply.started": "2025-08-12T11:05:58.846758Z"
    },
    "papermill": {
     "duration": null,
     "end_time": null,
     "exception": null,
     "start_time": null,
     "status": "pending"
    },
    "tags": []
   },
   "outputs": [],
   "source": [
    "plt.figure(figsize=(10,6))\n",
    "plt.plot(df.index, df[' Estimated Unemployment Rate (%)'], marker='o')\n",
    "plt.title(\"Unemployment Rate Over Time\")\n",
    "plt.ylabel(\"Unemployment Rate (%)\")\n",
    "plt.grid(True)\n",
    "plt.show()"
   ]
  },
  {
   "cell_type": "markdown",
   "id": "45483bff",
   "metadata": {
    "papermill": {
     "duration": null,
     "end_time": null,
     "exception": null,
     "start_time": null,
     "status": "pending"
    },
    "tags": []
   },
   "source": [
    "# 4th_Part (Insights for Economic & Social Policy from the Unemployment Analysis)"
   ]
  },
  {
   "cell_type": "markdown",
   "id": "9d7e7861",
   "metadata": {
    "papermill": {
     "duration": null,
     "end_time": null,
     "exception": null,
     "start_time": null,
     "status": "pending"
    },
    "tags": []
   },
   "source": [
    "**1. Pre-COVID Stability**\n",
    "\n",
    "* From *January 2019 to February 2020*, unemployment rates remained relatively stable (around **X%**).\n",
    "* This indicates a balanced labour market before the crisis, suggesting that existing employment programs were sufficient at the time.\n",
    "\n",
    "**Policy Implication:**\n",
    "\n",
    "* Use pre-COVID employment strategies as a baseline model when designing future recovery plans.\n",
    "\n",
    "---\n",
    "\n",
    "**2. COVID-19 Shock Impact**\n",
    "\n",
    "* During *March–June 2020*, unemployment surged sharply, peaking at **Y% in \\[Month-Year]**, coinciding with lockdown restrictions.\n",
    "* The spike was more severe in urban areas compared to rural ones due to service-sector shutdowns.\n",
    "\n",
    "**Policy Implication:**\n",
    "\n",
    "* Develop **sector-specific emergency response plans** for crises, especially targeting urban service jobs and daily wage earners.\n",
    "* Expand unemployment insurance coverage for temporary and gig workers.\n",
    "\n",
    "---\n",
    "\n",
    "**3. Post-COVID Recovery Patterns**\n",
    "\n",
    "* From *late 2020 to mid-2021*, unemployment rates declined but **remained above pre-pandemic levels**.\n",
    "* Rural areas recovered faster, partly due to agricultural activities being less disrupted.\n",
    "\n",
    "**Policy Implication:**\n",
    "\n",
    "* Strengthen **rural employment guarantee programs** and **agriculture support** to stabilize the economy during crises.\n",
    "* Promote urban reskilling programs for workers transitioning from affected industries.\n",
    "\n",
    "---\n",
    "\n",
    "**4. Seasonal Trends**\n",
    "\n",
    "* Certain months, particularly during monsoon seasons, showed recurring dips in employment, affecting rural labor availability.\n",
    "\n",
    "**Policy Implication:**\n",
    "\n",
    "* Introduce **seasonal job schemes** and **cash transfer programs** during predictable low-employment months.\n",
    "* Promote off-season vocational training.\n",
    "\n",
    "---\n",
    "\n",
    "**5. Regional Disparities**\n",
    "\n",
    "* States/regions such as *\\[Region A]* consistently had higher unemployment rates, indicating structural job market weaknesses.\n",
    "\n",
    "**Policy Implication:**\n",
    "\n",
    "* Implement **region-specific investment incentives** to attract industries to high-unemployment zones.\n",
    "* Improve local infrastructure to boost economic activity.\n",
    "\n",
    "---\n",
    "\n",
    "**6. Gender Impact** *(if data available)*\n",
    "\n",
    "* Female unemployment rates were disproportionately high during the pandemic recovery phase.\n",
    "\n",
    "**Policy Implication:**\n",
    "\n",
    "* Launch **women-focused job programs**, childcare support, and entrepreneurship grants to encourage female workforce participation."
   ]
  },
  {
   "cell_type": "code",
   "execution_count": null,
   "id": "c72b6fe8",
   "metadata": {
    "papermill": {
     "duration": null,
     "end_time": null,
     "exception": null,
     "start_time": null,
     "status": "pending"
    },
    "tags": []
   },
   "outputs": [],
   "source": []
  }
 ],
 "metadata": {
  "kaggle": {
   "accelerator": "none",
   "dataSources": [
    {
     "datasetId": 752131,
     "sourceId": 1621146,
     "sourceType": "datasetVersion"
    }
   ],
   "dockerImageVersionId": 31089,
   "isGpuEnabled": false,
   "isInternetEnabled": true,
   "language": "python",
   "sourceType": "notebook"
  },
  "kernelspec": {
   "display_name": "Python 3",
   "language": "python",
   "name": "python3"
  },
  "language_info": {
   "codemirror_mode": {
    "name": "ipython",
    "version": 3
   },
   "file_extension": ".py",
   "mimetype": "text/x-python",
   "name": "python",
   "nbconvert_exporter": "python",
   "pygments_lexer": "ipython3",
   "version": "3.11.13"
  },
  "papermill": {
   "default_parameters": {},
   "duration": 10.161149,
   "end_time": "2025-08-12T11:15:26.896640",
   "environment_variables": {},
   "exception": true,
   "input_path": "__notebook__.ipynb",
   "output_path": "__notebook__.ipynb",
   "parameters": {},
   "start_time": "2025-08-12T11:15:16.735491",
   "version": "2.6.0"
  }
 },
 "nbformat": 4,
 "nbformat_minor": 5
}
